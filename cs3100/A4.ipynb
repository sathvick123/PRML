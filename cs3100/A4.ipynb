{
 "cells": [
  {
   "cell_type": "markdown",
   "metadata": {},
   "source": [
    "## CS3100-2021 : Assignment 4 (Deadline : Nov 1, 23:59 at moodle)\n",
    "\n",
    "Before you turn this problem in, make sure everything runs as expected. First, **restart the kernel** (in the menubar, select Kernel$\\rightarrow$Restart) and then **run all cells** (in the menubar, select Cell$\\rightarrow$Run All).\n",
    "\n",
    "Make sure you fill in any place that says `YOUR CODE HERE` or \"YOUR ANSWER HERE\", as well as your name below:"
   ]
  },
  {
   "cell_type": "code",
   "execution_count": null,
   "metadata": {},
   "outputs": [],
   "source": [
    "let name = \"sathvick reddy beeravalli\"\n",
    "let rollno = \"cs19b010\""
   ]
  },
  {
   "cell_type": "markdown",
   "metadata": {
    "deletable": false,
    "editable": false,
    "nbgrader": {
     "cell_type": "markdown",
     "checksum": "05e269f2ede4ae045016a0d8167284f3",
     "grade": false,
     "grade_id": "cell-fccdd152af2cd140",
     "locked": true,
     "schema_version": 3,
     "solution": false,
     "task": false
    }
   },
   "source": [
    "# Recursive programs \n",
    "\n",
    "Let us implement a few facts about natural numbers encoded as church numerals. Use the constant `0` for representing `0` and `s(X)` to represent the successor function.\n",
    "\n",
    "## Problem 1\n",
    "\n",
    "Implement the predicate `natural_number` such that the following tests pass. "
   ]
  },
  {
   "cell_type": "code",
   "execution_count": null,
   "metadata": {
    "deletable": false,
    "nbgrader": {
     "cell_type": "code",
     "checksum": "ac2a51387d1698312b93a5f477309979",
     "grade": false,
     "grade_id": "cell-8a81381a3891ca79",
     "locked": false,
     "schema_version": 3,
     "solution": true,
     "task": false
    }
   },
   "outputs": [],
   "source": [
    "natural_number(0).\n",
    "natural_number(s(X)):-natural_number(X)."
   ]
  },
  {
   "cell_type": "code",
   "execution_count": null,
   "metadata": {
    "deletable": false,
    "editable": false,
    "nbgrader": {
     "cell_type": "code",
     "checksum": "bc6d45fe32ac8f4ffaaa2895526bb3d6",
     "grade": true,
     "grade_id": "cell-3ab44c06f80c32b5",
     "locked": true,
     "points": 10,
     "schema_version": 3,
     "solution": false,
     "task": false
    }
   },
   "outputs": [],
   "source": [
    "/* 10 points */\n",
    "?- natural_number(0) -> true; abort.\n",
    "?- natural_number(s(s(s(0)))) -> true; abort.\n",
    "?- not(natural_number(s(s(z)))) -> true; abort."
   ]
  },
  {
   "cell_type": "markdown",
   "metadata": {
    "deletable": false,
    "editable": false,
    "nbgrader": {
     "cell_type": "markdown",
     "checksum": "4f0d0c546bb735205d712fb3f8710faa",
     "grade": false,
     "grade_id": "cell-4ede557b4c1d3470",
     "locked": true,
     "schema_version": 3,
     "solution": false,
     "task": false
    }
   },
   "source": [
    "BTW, the strange syntax above is Prolog's way of writing if-then-else. \n",
    "\n",
    "```\n",
    "if g then t else f\n",
    "```\n",
    "\n",
    "gets translated to \n",
    "\n",
    "```\n",
    "g -> t; f\n",
    "```\n",
    "\n",
    "where `g` is the goal. We didn't cover this in class and you will not have to worry about this. "
   ]
  },
  {
   "cell_type": "markdown",
   "metadata": {
    "deletable": false,
    "editable": false,
    "nbgrader": {
     "cell_type": "markdown",
     "checksum": "ff02d737bf5ce02732211660eb1839c4",
     "grade": false,
     "grade_id": "cell-8e970bb55d98c0c2",
     "locked": true,
     "schema_version": 3,
     "solution": false,
     "task": false
    }
   },
   "source": [
    "## Problem 2\n",
    "\n",
    "Implement the predicate \n",
    "\n",
    "```prolog\n",
    "plus(X,Y,Z)\n",
    "```\n",
    "\n",
    "which states that `X+Y=Z`. Encode the following axioms for addition:\n",
    "\n",
    "\\\\[\n",
    "\\begin{array}{c}\n",
    "\\forall x. plus(x,0,x) \\\\\n",
    "\\forall x. plus(0,x,x) \\\\\n",
    "\\forall x,y,z. plus(x,y,z) \\rightarrow plus(s(x),y,s(z))\n",
    "\\end{array}\n",
    "\\\\]"
   ]
  },
  {
   "cell_type": "code",
   "execution_count": null,
   "metadata": {
    "deletable": false,
    "nbgrader": {
     "cell_type": "code",
     "checksum": "5521c65977049d1503f84f18b36d16be",
     "grade": false,
     "grade_id": "cell-11eb4b43f1dea883",
     "locked": false,
     "schema_version": 3,
     "solution": true,
     "task": false
    }
   },
   "outputs": [],
   "source": [
    "plus(X,0,X).\n",
    "plus(0,X,X).\n",
    "plus(s(X),Y,s(Z)):-plus(X,Y,Z)."
   ]
  },
  {
   "cell_type": "code",
   "execution_count": null,
   "metadata": {
    "deletable": false,
    "editable": false,
    "nbgrader": {
     "cell_type": "code",
     "checksum": "1ce202aa3d7cabc7161beefe69acb396",
     "grade": true,
     "grade_id": "cell-37d35d558a789c51",
     "locked": true,
     "points": 10,
     "schema_version": 3,
     "solution": false,
     "task": false
    }
   },
   "outputs": [],
   "source": [
    "/* 10 points */\n",
    "?- plus(s(s(0)),s(s(0)),s(s(s(s(0))))) -> true; abort.\n",
    "?- plus(s(s(0)),X,s(s(s(s(s(0)))))), X = s(s(s(0))) -> true; abort.\n",
    "?- not(plus(s(s(0)),X,0)) -> true; abort.\n",
    "?- plus(X,Y,s(s(s(0)))), X=s(s(0)), Y=s(0) -> true; abort."
   ]
  },
  {
   "cell_type": "markdown",
   "metadata": {
    "deletable": false,
    "editable": false,
    "nbgrader": {
     "cell_type": "markdown",
     "checksum": "7e1134b4011f8cd3afebab8082fb59d1",
     "grade": false,
     "grade_id": "cell-ebe5ffa7772420c7",
     "locked": true,
     "schema_version": 3,
     "solution": false,
     "task": false
    }
   },
   "source": [
    "## Problem 3\n",
    "\n",
    "We can represent multiplication using repeated addition. Write a predicate `mult(X,Y,Z)` using `plus(X,Y,Z)` where `mult(X,Y,Z)` represents `X*Y=Z`. Do not use built in arithmetic."
   ]
  },
  {
   "cell_type": "code",
   "execution_count": null,
   "metadata": {
    "deletable": false,
    "nbgrader": {
     "cell_type": "code",
     "checksum": "bc12fd06eb5401a535b044999393dd17",
     "grade": false,
     "grade_id": "cell-43354419c3d2fd23",
     "locked": false,
     "schema_version": 3,
     "solution": true,
     "task": false
    }
   },
   "outputs": [],
   "source": [
    "mult(X,0,0) :- natural_number(X).\n",
    "mult(X,s(Y),Z) :- mult(X,Y,V),plus(X,P,Z)."
   ]
  },
  {
   "cell_type": "code",
   "execution_count": null,
   "metadata": {
    "deletable": false,
    "editable": false,
    "nbgrader": {
     "cell_type": "code",
     "checksum": "914abb823b5bca03af35c50897f6f449",
     "grade": true,
     "grade_id": "cell-1b407fc43b930ff5",
     "locked": true,
     "points": 10,
     "schema_version": 3,
     "solution": false,
     "task": false
    }
   },
   "outputs": [],
   "source": [
    "/* 10 points */\n",
    "?- mult(s(s(s(0))),s(s(0)),X), X = s(s(s(s(s(s(0)))))) -> true; abort.\n",
    "?- mult(s(s(s(0))),0,X), X = 0 -> true; abort."
   ]
  },
  {
   "cell_type": "markdown",
   "metadata": {
    "deletable": false,
    "editable": false,
    "nbgrader": {
     "cell_type": "markdown",
     "checksum": "3f5ae36037d162d90b7e7e1e0f74fbad",
     "grade": false,
     "grade_id": "cell-4fea2bcdb8672a3b",
     "locked": true,
     "schema_version": 3,
     "solution": false,
     "task": false
    }
   },
   "source": [
    "## Problem 4\n",
    "\n",
    "Let's implement a conversion function from Church numerals to Prolog integers. The predicate \n",
    "\n",
    "```prolog\n",
    "to_int(X,Y)\n",
    "```\n",
    "\n",
    "holds if `X` is the church numeral that corresponds to the Prolog integer `Y`. See test cases for what is expected."
   ]
  },
  {
   "cell_type": "code",
   "execution_count": null,
   "metadata": {
    "deletable": false,
    "nbgrader": {
     "cell_type": "code",
     "checksum": "69c534841747ad522d1844c3d40f62b9",
     "grade": false,
     "grade_id": "cell-4670be924aec250f",
     "locked": false,
     "schema_version": 3,
     "solution": true,
     "task": false
    }
   },
   "outputs": [],
   "source": [
    "to_int(0,0).\n",
    "to_int(s(X),Y):-to_int(X,Z),Y is Z+1."
   ]
  },
  {
   "cell_type": "markdown",
   "metadata": {
    "deletable": false,
    "editable": false,
    "nbgrader": {
     "cell_type": "markdown",
     "checksum": "637f3df4a748a416b46185562fe45de5",
     "grade": false,
     "grade_id": "cell-20c06c12e97a36aa",
     "locked": true,
     "schema_version": 3,
     "solution": false,
     "task": false
    }
   },
   "source": [
    "We now define `of_int` based on `to_int` definition. For example `of_int(1,s(z))`. \n",
    "\n",
    "The exclamation mark at the end is the **cut** operator. We will study the cut operator in the future lectures. You will also see more strategically placed cut operators in the tests. You will not need to understand what they are for solving this programming assignment. "
   ]
  },
  {
   "cell_type": "code",
   "execution_count": null,
   "metadata": {
    "deletable": false,
    "editable": false,
    "nbgrader": {
     "cell_type": "code",
     "checksum": "14b98250b765aa538b380d3e0597f078",
     "grade": false,
     "grade_id": "cell-b210e636f78d7639",
     "locked": true,
     "schema_version": 3,
     "solution": false,
     "task": false
    }
   },
   "outputs": [],
   "source": [
    "of_int(X,Y) :- to_int(Y,X), !."
   ]
  },
  {
   "cell_type": "code",
   "execution_count": null,
   "metadata": {
    "deletable": false,
    "editable": false,
    "nbgrader": {
     "cell_type": "code",
     "checksum": "9f4244f7d0961c436fb2d57c00b585f1",
     "grade": true,
     "grade_id": "cell-75e567cf8e02cf5e",
     "locked": true,
     "points": 10,
     "schema_version": 3,
     "solution": false,
     "task": false
    }
   },
   "outputs": [],
   "source": [
    "/* 10 points */\n",
    "?- of_int(3,Y), Y = s(s(s(0))) -> true; abort.\n",
    "?- to_int(s(s(0)),X), X = 2 -> true; abort."
   ]
  },
  {
   "cell_type": "markdown",
   "metadata": {
    "deletable": false,
    "editable": false,
    "nbgrader": {
     "cell_type": "markdown",
     "checksum": "408bc71605d8beced76e8aafb996e2db",
     "grade": false,
     "grade_id": "cell-c6fc791406f49bb2",
     "locked": true,
     "schema_version": 3,
     "solution": false,
     "task": false
    }
   },
   "source": [
    "## Problem 5\n",
    "\n",
    "Implement subtraction predicate `sub(X,Y,Z)` which holds if `X-Y=Z` where X,Y and Z are church numerals. Do not use built in arithmetic subtraction."
   ]
  },
  {
   "cell_type": "code",
   "execution_count": null,
   "metadata": {
    "deletable": false,
    "nbgrader": {
     "cell_type": "code",
     "checksum": "1137935ace922a3abfe9fe8845e04d63",
     "grade": false,
     "grade_id": "cell-34c04e23a8ccbfaa",
     "locked": false,
     "schema_version": 3,
     "solution": true,
     "task": false
    }
   },
   "outputs": [],
   "source": [
    "sub(X,Y,Z):-plus(Y,Z,X)."
   ]
  },
  {
   "cell_type": "code",
   "execution_count": null,
   "metadata": {
    "deletable": false,
    "editable": false,
    "nbgrader": {
     "cell_type": "code",
     "checksum": "81d450d96ee10b2ba9582bd8e4c181dc",
     "grade": true,
     "grade_id": "cell-1b3ae97d6fa21bfb",
     "locked": true,
     "points": 10,
     "schema_version": 3,
     "solution": false,
     "task": false
    }
   },
   "outputs": [],
   "source": [
    "/* 10 points */\n",
    "?- of_int(5,X), of_int(4,Y), sub(X,Y,Z), to_int(Z,Result), Result = 1 -> true; abort.\n",
    "?- of_int(4,X), of_int(4,Y), sub(X,Y,Z), to_int(Z,Result), Result = 0 -> true; abort.\n",
    "/* 4-5 is undefined; derives false. */\n",
    "?- of_int(4,X), of_int(5,Y), not(sub(X,Y,Z)) -> true; abort."
   ]
  },
  {
   "cell_type": "markdown",
   "metadata": {
    "deletable": false,
    "editable": false,
    "nbgrader": {
     "cell_type": "markdown",
     "checksum": "a11cba80a5f825cf125560349a78e521",
     "grade": false,
     "grade_id": "cell-1a301288439bad2a",
     "locked": true,
     "schema_version": 3,
     "solution": false,
     "task": false
    }
   },
   "source": [
    "## Problem 6\n",
    "\n",
    "We can represent division using repeated substraction. Implement `div(X,Y,Z)` which stands for `X/Y=Z`. Do not use built in arithmetic division. You can use arithmetic comparison."
   ]
  },
  {
   "cell_type": "code",
   "execution_count": null,
   "metadata": {
    "deletable": false,
    "nbgrader": {
     "cell_type": "code",
     "checksum": "800e9d3f342e4bf25f7f0d49c05b9b90",
     "grade": false,
     "grade_id": "cell-6658e6bbf8d4f9f7",
     "locked": false,
     "schema_version": 3,
     "solution": true,
     "task": false
    }
   },
   "outputs": [],
   "source": [
    "greater_than_equal(P,0):-natural_number(P).\n",
    "greater_than_equal(P,P):-natural_number(P).\n",
    "greater_than_equal(s(P),s(Q)):-greater_than_equal(P,Q).\n",
    "div(P,s(0),P):- natural_number(P).\n",
    "div(0,P,0):- natural_number(P),greater_than_equal(P,s(0)).\n",
    "div(P,P,s(0)):-natural_number(P),greater_than_equal(P,s(0)).\n",
    "div(X,Y,Z):-greater_than_equal(Y,s(0)),greater_than_equal(X,Y),sub(X,Y,P),div(P,Y,W),plus(W,s(0),Z)."
   ]
  },
  {
   "cell_type": "code",
   "execution_count": null,
   "metadata": {
    "deletable": false,
    "editable": false,
    "nbgrader": {
     "cell_type": "code",
     "checksum": "bcbbedd57ab4c496ba460946bf92d3b9",
     "grade": true,
     "grade_id": "cell-cdc7c341fe7b9cb5",
     "locked": true,
     "points": 10,
     "schema_version": 3,
     "solution": false,
     "task": false
    }
   },
   "outputs": [],
   "source": [
    "/* 10 points */\n",
    "?- of_int(10,X), of_int(5,Y), div(X,Y,Z), to_int(Z,Result), Result = 2, ! -> true; abort. \n",
    "/* 5/10 is undefined; derives false. */\n",
    "?- of_int(5,X), of_int(10,Y), not(div(X,Y,Z)) -> true; abort.\n",
    "/* 5/0 is undefined; derives false. */\n",
    "?- of_int(5,X), of_int(0,Y), not(div(X,Y,Z)) -> true; abort."
   ]
  },
  {
   "cell_type": "markdown",
   "metadata": {
    "deletable": false,
    "editable": false,
    "nbgrader": {
     "cell_type": "markdown",
     "checksum": "00f1de35f16538f7f1ed95fb4bc15a1c",
     "grade": false,
     "grade_id": "cell-0870361a89d2728b",
     "locked": true,
     "schema_version": 3,
     "solution": false,
     "task": false
    }
   },
   "source": [
    "## Problem 7\n",
    "\n",
    "Implement a predicate `range(S,E,M)` which holds if the integer `M` is within the range `S` to `E` including `S` and `E`. "
   ]
  },
  {
   "cell_type": "code",
   "execution_count": null,
   "metadata": {
    "deletable": false,
    "nbgrader": {
     "cell_type": "code",
     "checksum": "a3b80e6627bee8f219db674f98eeac60",
     "grade": false,
     "grade_id": "cell-bf5de045f9d9aa0d",
     "locked": false,
     "schema_version": 3,
     "solution": true,
     "task": false
    }
   },
   "outputs": [],
   "source": [
    "range(S,E,M):-M=<E,S=<M."
   ]
  },
  {
   "cell_type": "code",
   "execution_count": null,
   "metadata": {
    "deletable": false,
    "editable": false,
    "nbgrader": {
     "cell_type": "code",
     "checksum": "04ce15dff7889cfb9db52b1cd9c4a0dc",
     "grade": true,
     "grade_id": "cell-6689d4798a6c2705",
     "locked": true,
     "points": 10,
     "schema_version": 3,
     "solution": false,
     "task": false
    }
   },
   "outputs": [],
   "source": [
    "/* 10 points */\n",
    "?- not(range(1,2,0)) -> true; abort.\n",
    "?- range(1,2,1) -> true; abort.\n",
    "?- range(1,2,2) -> true; abort.\n",
    "?- not(range(1,2,3)) -> true; abort."
   ]
  }
 ],
 "metadata": {
  "kernelspec": {
   "display_name": "SWI-Prolog",
   "language": "",
   "name": "jswipl"
  },
  "language_info": {
   "mimetype": "text/plain",
   "name": "swipl"
  }
 },
 "nbformat": 4,
 "nbformat_minor": 2
}
