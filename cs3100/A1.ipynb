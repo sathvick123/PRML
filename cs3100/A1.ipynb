{
 "cells": [
  {
   "cell_type": "markdown",
   "metadata": {},
   "source": [
    "## CS3100 Assignment 1\n",
    "\n",
    "* Released on Aug 27, 2021, 9pm\n",
    "* Due on Sep 4, 2021, 11:59pm (moodle time).\n",
    "\n",
    "### Important notes about grading:\n",
    "1. **Compiler errors:** All code you submit must compile. Programs that do not compile will probably receive an automatic zero. If you are having trouble getting your assignment to compile, please visit the TA or instructor during the contact hours. If you run out of time, it is better to comment out the parts that do not compile, than submit a more complete file that does not compile.\n",
    "2. **Late assignments:** Please carefully review the message sent on course groups about late submission so fassignments. All assignments handed in after the deadline will be considered late. Verify on moodle that you have submitted the correct version, before the deadline. Submitting the incorrect version before the deadline and realizing that you have done so after the deadline will be counted as a late submission."
   ]
  },
  {
   "cell_type": "markdown",
   "metadata": {},
   "source": [
    "Before you turn this problem in, make sure everything runs as expected. First, **restart the kernel** (in the menubar, select Kernel$\\rightarrow$Restart) and then **run all cells** (in the menubar, select Cell$\\rightarrow$Run All).\n",
    "\n",
    "Make sure you fill in any place that says `YOUR CODE HERE` or \"YOUR ANSWER HERE\", as well as your name below:"
   ]
  },
  {
   "cell_type": "code",
   "execution_count": 1,
   "metadata": {},
   "outputs": [
    {
     "data": {
      "text/plain": [
       "val name : string = \"Sathvick Reddy Beeravalli\"\n"
      ]
     },
     "execution_count": 1,
     "metadata": {},
     "output_type": "execute_result"
    },
    {
     "data": {
      "text/plain": [
       "val rollno : string = \"CS19B010\"\n"
      ]
     },
     "execution_count": 1,
     "metadata": {},
     "output_type": "execute_result"
    }
   ],
   "source": [
    "let name = \"Sathvick Reddy Beeravalli\"\n",
    "let rollno = \"CS19B010\""
   ]
  },
  {
   "cell_type": "markdown",
   "metadata": {
    "editable": false,
    "nbgrader": {
     "cell_type": "markdown",
     "checksum": "4478f86f3a1c80b14a379ada586a9a70",
     "grade": false,
     "grade_id": "cell-41ce3e7523a44045",
     "locked": true,
     "schema_version": 3,
     "solution": false
    }
   },
   "source": [
    "## Problem 1\n",
    "\n",
    "Write a function \n",
    "\n",
    "```ocaml\n",
    "cond_dup : 'a list -> ('a -> bool) -> 'a list\n",
    "```\n",
    "\n",
    "list that takes in a list and preciate and duplicates all elements which satisfy the condition expressed in the predicate. For example, `cond_dup [3;4;5] (fun x -> x mod 2 = 1) = [3;3;4;5;5]`."
   ]
  },
  {
   "cell_type": "code",
   "execution_count": 2,
   "metadata": {
    "deletable": false,
    "nbgrader": {
     "cell_type": "code",
     "checksum": "dfc6156dad6ee9f9b1355a75f8aab226",
     "grade": false,
     "grade_id": "cell-7950f1ea0a84b889",
     "locked": false,
     "schema_version": 3,
     "solution": true
    }
   },
   "outputs": [
    {
     "data": {
      "text/plain": [
       "val rev_list : 'a list -> 'a list -> 'a list = <fun>\n"
      ]
     },
     "execution_count": 2,
     "metadata": {},
     "output_type": "execute_result"
    },
    {
     "data": {
      "text/plain": [
       "val cond_dup : 'a list -> ('a -> bool) -> 'a list -> 'a list = <fun>\n"
      ]
     },
     "execution_count": 2,
     "metadata": {},
     "output_type": "execute_result"
    },
    {
     "data": {
      "text/plain": [
       "val cond_dup : 'a list -> ('a -> bool) -> 'a list = <fun>\n"
      ]
     },
     "execution_count": 2,
     "metadata": {},
     "output_type": "execute_result"
    }
   ],
   "source": [
    "\n",
    "let rec rev_list l acc = \n",
    "  match l with\n",
    "  | [] -> acc\n",
    "  | hd::tl -> rev_list tl (hd::acc)\n",
    "\n",
    "\n",
    "let rec cond_dup l f lis =\n",
    "  match l with\n",
    "  |[] -> rev_list lis []\n",
    "  |  h::t->\n",
    "  if f h then cond_dup t f (h::h::lis) \n",
    "  else \n",
    "  cond_dup t f (h::lis)\n",
    "   \n",
    "let cond_dup l f =cond_dup l f []\n",
    "  \n",
    "  "
   ]
  },
  {
   "cell_type": "code",
   "execution_count": 3,
   "metadata": {
    "deletable": false,
    "editable": false,
    "nbgrader": {
     "cell_type": "code",
     "checksum": "35e39cfbcedce055e4760a0fcb017e9b",
     "grade": true,
     "grade_id": "cell-1d772b02ff64382c",
     "locked": true,
     "points": 10,
     "schema_version": 3,
     "solution": false
    }
   },
   "outputs": [
    {
     "data": {
      "text/plain": [
       "- : unit = ()\n"
      ]
     },
     "execution_count": 3,
     "metadata": {},
     "output_type": "execute_result"
    }
   ],
   "source": [
    "(* 10 points *)\n",
    "assert (cond_dup [3;4;5] (fun x -> x mod 2 = 1) = [3;3;4;5;5])\n",
    "(* BEGIN HIDDEN TESTS *)\n",
    "; assert (cond_dup [] (fun x -> x mod 2 = 1) = [])\n",
    "; assert (cond_dup [1;2;3;4;5] (fun x -> x mod 2 = 0) = [1;2;2;3;4;4;5])\n",
    "(* END HIDDEN TESTS *)"
   ]
  },
  {
   "cell_type": "markdown",
   "metadata": {
    "deletable": false,
    "editable": false,
    "nbgrader": {
     "cell_type": "markdown",
     "checksum": "3162fde0efe8a74cd964df1fb783efc8",
     "grade": false,
     "grade_id": "cell-67553e1ff5c90180",
     "locked": true,
     "schema_version": 3,
     "solution": false
    }
   },
   "source": [
    "## Problem 2\n",
    "\n",
    "Write a function \n",
    "\n",
    "```ocaml\n",
    "n_times : ('a -> 'a) * int * 'a -> 'a\n",
    "```\n",
    "\n",
    "such that `n_times (f,n,v)` applies `f` to `v` `n` times. For example, `n_times((fun x-> x+1), 50, 0) = 50`. If `n<=0` return `v`.\n"
   ]
  },
  {
   "cell_type": "code",
   "execution_count": 4,
   "metadata": {
    "deletable": false,
    "nbgrader": {
     "cell_type": "code",
     "checksum": "861790683cc208cedfc63b9634de97ab",
     "grade": false,
     "grade_id": "cell-c28f98bd63f56ba1",
     "locked": false,
     "schema_version": 3,
     "solution": true
    }
   },
   "outputs": [
    {
     "data": {
      "text/plain": [
       "val n_times : ('a -> 'a) * int * 'a -> 'a = <fun>\n"
      ]
     },
     "execution_count": 4,
     "metadata": {},
     "output_type": "execute_result"
    },
    {
     "data": {
      "text/plain": [
       "val n_times : (int -> int) * int * 'a -> int = <fun>\n"
      ]
     },
     "execution_count": 4,
     "metadata": {},
     "output_type": "execute_result"
    }
   ],
   "source": [
    "let rec n_times (f, n, v) =\n",
    "  if n=0 then v\n",
    "  else n_times (f,n-1,(f v))\n",
    "  \n",
    "  let n_times (f,n,v)=n_times(f,n,0)"
   ]
  },
  {
   "cell_type": "code",
   "execution_count": 5,
   "metadata": {
    "deletable": false,
    "editable": false,
    "nbgrader": {
     "cell_type": "code",
     "checksum": "fcaee927b9a04c828a52e4ce89975686",
     "grade": true,
     "grade_id": "cell-98364653c4b77b2d",
     "locked": true,
     "points": 10,
     "schema_version": 3,
     "solution": false
    }
   },
   "outputs": [
    {
     "ename": "error",
     "evalue": "runtime_error",
     "output_type": "error",
     "traceback": [
      "\u001b[31mException: Assert_failure (\"[5]\", 4, 2).\nRaised at file \"[5]\", line 4, characters 2-43\nCalled from file \"toplevel/toploop.ml\", line 212, characters 17-27\n\u001b[0m"
     ]
    }
   ],
   "source": [
    "(* 10 points *)\n",
    "assert (n_times((fun x-> x+1), 50, 0) = 50)\n",
    "(* BEGIN HIDDEN TESTS *)\n",
    "; assert (n_times ((fun x->x+1), 0, 1) = 1)\n",
    "; assert (n_times((fun x-> x+2), 50, 0) = 100)\n",
    "(* END HIDDEN TESTS *)"
   ]
  },
  {
   "cell_type": "markdown",
   "metadata": {},
   "source": [
    "## Problem 3\n",
    "\n",
    "Write a function \n",
    "\n",
    "```ocaml\n",
    "range : int -> int -> int list \n",
    "```\n",
    "\n",
    "such that `range num1 num2` returns an ordered list of all integers from `num1` to `num2` inclusive. For example, `range 2 5 = [2;3;4;5]`. Raise the exception `IncorrectRange` if `num2 < num1`."
   ]
  },
  {
   "cell_type": "code",
   "execution_count": 6,
   "metadata": {
    "deletable": false,
    "nbgrader": {
     "cell_type": "code",
     "checksum": "a496eb0ead44bd57c39a1ac4e039b5ba",
     "grade": false,
     "grade_id": "cell-1fd147f7eb3b139d",
     "locked": false,
     "schema_version": 3,
     "solution": true
    }
   },
   "outputs": [
    {
     "data": {
      "text/plain": [
       "val rev_list : 'a list -> 'a list -> 'a list = <fun>\n"
      ]
     },
     "execution_count": 6,
     "metadata": {},
     "output_type": "execute_result"
    },
    {
     "data": {
      "text/plain": [
       "exception IncorrectRange\n"
      ]
     },
     "execution_count": 6,
     "metadata": {},
     "output_type": "execute_result"
    },
    {
     "data": {
      "text/plain": [
       "val range : int -> int -> int list -> int list = <fun>\n"
      ]
     },
     "execution_count": 6,
     "metadata": {},
     "output_type": "execute_result"
    },
    {
     "data": {
      "text/plain": [
       "val range : int -> int -> int list = <fun>\n"
      ]
     },
     "execution_count": 6,
     "metadata": {},
     "output_type": "execute_result"
    }
   ],
   "source": [
    "let rec rev_list l acc = \n",
    "  match l with\n",
    "  | [] -> acc\n",
    "  | hd::tl -> rev_list tl (hd::acc)\n",
    "\n",
    "exception IncorrectRange\n",
    " \n",
    "let rec range num1 num2 lis=\n",
    "  if num2<num1 then raise IncorrectRange\n",
    "  else\n",
    "    if num1=num2 then rev_list (num1::lis) []\n",
    "    \n",
    "    else range (num1+1) num2 (num1::lis)\n",
    "    \n",
    "    let range num1 num2 =range num1 num2 []"
   ]
  },
  {
   "cell_type": "code",
   "execution_count": 7,
   "metadata": {
    "deletable": false,
    "editable": false,
    "nbgrader": {
     "cell_type": "code",
     "checksum": "d0363032d2b126c472b04bd13399a828",
     "grade": true,
     "grade_id": "cell-bba984120a807d42",
     "locked": true,
     "points": 10,
     "schema_version": 3,
     "solution": false
    }
   },
   "outputs": [
    {
     "data": {
      "text/plain": [
       "- : unit = ()\n"
      ]
     },
     "execution_count": 7,
     "metadata": {},
     "output_type": "execute_result"
    }
   ],
   "source": [
    "(* 10 points *)\n",
    "assert (range 2 5 = [2;3;4;5])\n",
    "(* BEGIN HIDDEN TESTS *)\n",
    "; assert (range 0 0 = [0])\n",
    "; assert (try range 1 0 = [] with IncorrectRange -> true)\n",
    "(* END HIDDEN TESTS *)"
   ]
  },
  {
   "cell_type": "markdown",
   "metadata": {
    "deletable": false,
    "editable": false,
    "nbgrader": {
     "cell_type": "markdown",
     "checksum": "f40688738b7b4af9f498b6b2a3b40e4f",
     "grade": false,
     "grade_id": "cell-02994ffdb9f579cf",
     "locked": true,
     "schema_version": 3,
     "solution": false
    }
   },
   "source": [
    "## Problem 4\n",
    "\n",
    "Write a function \n",
    "\n",
    "```ocaml\n",
    "zipwith : ('a -> 'b -> 'c) -> 'a list -> 'b list -> 'c list\n",
    "```\n",
    "\n",
    "such that `zipwith f l1 l2` generates a list whose `ith` element is obtained by applying `f` to the `ith` element of `l1` and the `ith` element of `l2` . If the lists have different lengths, the extra elements in the longer list should be ignored. For example, `zipwith (+) [1;2;3] [4;5] = [5;7]`."
   ]
  },
  {
   "cell_type": "code",
   "execution_count": 8,
   "metadata": {
    "deletable": false,
    "nbgrader": {
     "cell_type": "code",
     "checksum": "618f17a05cf46a7865aa3815616d7d3f",
     "grade": false,
     "grade_id": "cell-932054b41dace011",
     "locked": false,
     "schema_version": 3,
     "solution": true
    }
   },
   "outputs": [
    {
     "data": {
      "text/plain": [
       "val length : 'a list -> int = <fun>\n"
      ]
     },
     "execution_count": 8,
     "metadata": {},
     "output_type": "execute_result"
    },
    {
     "data": {
      "text/plain": [
       "val zipwith : ('a -> 'b -> 'c) -> 'a list -> 'b list -> 'c list = <fun>\n"
      ]
     },
     "execution_count": 8,
     "metadata": {},
     "output_type": "execute_result"
    }
   ],
   "source": [
    "let rec length l =\n",
    "  match l with\n",
    "  | [] -> 0\n",
    "  | h::t -> 1 + length t\n",
    "\n",
    "let rec zipwith f l1 l2 =\n",
    "match l1 with \n",
    "|[]->[] \n",
    "|hd1::tl1->\n",
    "match l2 with\n",
    " |[]->[]\n",
    " |hd2::tl2-> (f hd1 hd2)::zipwith f tl1 tl2 \n",
    " "
   ]
  },
  {
   "cell_type": "code",
   "execution_count": 9,
   "metadata": {
    "deletable": false,
    "editable": false,
    "nbgrader": {
     "cell_type": "code",
     "checksum": "9d8bf57bbf298a1370ce8adfbb1603ee",
     "grade": true,
     "grade_id": "cell-55aefe5fa4f927d0",
     "locked": true,
     "points": 10,
     "schema_version": 3,
     "solution": false
    }
   },
   "outputs": [
    {
     "data": {
      "text/plain": [
       "- : unit = ()\n"
      ]
     },
     "execution_count": 9,
     "metadata": {},
     "output_type": "execute_result"
    }
   ],
   "source": [
    "(* 10 points *)\n",
    "assert (zipwith (+) [1;2;3] [4;5] = [5;7]) \n",
    "(* BEGIN HIDDEN TESTS *)\n",
    "; assert (zipwith (fun x y -> (x,y)) [1;2;3;4] [5;6;7] = [(1,5); (2,6); (3,7)])\n",
    "(* END HIDDEN TESTS *)"
   ]
  },
  {
   "cell_type": "markdown",
   "metadata": {
    "deletable": false,
    "editable": false,
    "nbgrader": {
     "cell_type": "markdown",
     "checksum": "e86f25cd60d8c6c6466403f7a4a075f9",
     "grade": false,
     "grade_id": "cell-6d364d82aa5deaae",
     "locked": true,
     "schema_version": 3,
     "solution": false
    }
   },
   "source": [
    "## Problem 5\n",
    "\n",
    "Write a function \n",
    "\n",
    "```ocaml\n",
    "buckets : ('a -> 'a -> bool) -> 'a list -> 'a list list \n",
    "```\n",
    "\n",
    "that partitions a list into equivalence classes. That is, buckets equiv lst should return a list of lists where each sublist in the result contains equivalent elements, where two elements are considered equivalent if equiv returns true. For example:\n",
    "\n",
    "\n",
    "```ocaml\n",
    "buckets (=) [1;2;3;4] = [[1];[2];[3];[4]]\n",
    "buckets (=) [1;2;3;4;2;3;4;3;4] = [[1];[2;2];[3;3;3];[4;4;4]]\n",
    "buckets (fun x y -> (=) (x mod 3) (y mod 3)) [1;2;3;4;5;6] = [[1;4];[2;5];[3;6]]\n",
    "```\n",
    "\n",
    "The order of the buckets must reflect the order in which the elements appear in the original list. For example, the output of `buckets (=) [1;2;3;4]` should be `[[1];[2];[3];[4]]` and not `[[2];[1];[3];[4]]` or any other permutation.\n",
    "\n",
    "The order of the elements in each bucket must reflect the order in which the elements appear in the original list. For example, the output of `buckets (fun x y -> (=) (x mod 3) (y mod 3)) [1;2;3;4;5;6]` should be `[[1;4];[2;5];[3;6]]` and not `[[4;1];[5;2];[3;6]]` or any other permutations.\n",
    "\n",
    "Assume that the comparison function `('a -> 'a -> bool)` is commutative, associative and idempotent.\n",
    "\n",
    "Just use lists. Do not use sets or hash tables.\n",
    "\n",
    "List append function `@` may come in handy. `[1;2;3] @ [4;5;6] = [1;2;3;4;5;6]`."
   ]
  },
  {
   "cell_type": "code",
   "execution_count": 10,
   "metadata": {
    "deletable": false,
    "nbgrader": {
     "cell_type": "code",
     "checksum": "525112ce6c8ff36fe4d5206434774fa0",
     "grade": false,
     "grade_id": "cell-f4d88f256cc9db8b",
     "locked": false,
     "schema_version": 3,
     "solution": true
    }
   },
   "outputs": [
    {
     "data": {
      "text/plain": [
       "val insert :\n",
       "  ('a -> 'a -> bool) ->\n",
       "  'a -> 'a list list -> 'a list list -> bool -> 'a list list = <fun>\n"
      ]
     },
     "execution_count": 10,
     "metadata": {},
     "output_type": "execute_result"
    },
    {
     "data": {
      "text/plain": [
       "val buc : ('a -> 'a -> bool) -> 'a list -> 'a list list -> 'a list list =\n",
       "  <fun>\n"
      ]
     },
     "execution_count": 10,
     "metadata": {},
     "output_type": "execute_result"
    },
    {
     "data": {
      "text/plain": [
       "val buckets : ('a -> 'a -> bool) -> 'a list -> 'a list list = <fun>\n"
      ]
     },
     "execution_count": 10,
     "metadata": {},
     "output_type": "execute_result"
    }
   ],
   "source": [
    "let rec insert p ele lis temp check=\n",
    "match lis with\n",
    "|[]-> if check then temp else (temp@[[ele]])\n",
    "\n",
    "|hd::tl-> match hd with \n",
    "          |[]->temp@[[ele]]\n",
    "          |x::tl1 -> if p x ele then insert p ele tl (temp@[hd@[ele]]) true else insert p ele tl (temp@[hd]) check\n",
    "\n",
    "\n",
    "let rec buc p l lis=\n",
    "match l with\n",
    "|[]->lis\n",
    "|hd::tl->buc p tl (insert p hd lis  [] false) \n",
    " \n",
    "let buckets p l =buc p l [] "
   ]
  },
  {
   "cell_type": "code",
   "execution_count": 11,
   "metadata": {
    "deletable": false,
    "editable": false,
    "nbgrader": {
     "cell_type": "code",
     "checksum": "81a8f4aa93ad014b2ece4fcc85ea3094",
     "grade": true,
     "grade_id": "cell-fdbd3b5564e151cb",
     "locked": true,
     "points": 20,
     "schema_version": 3,
     "solution": false
    }
   },
   "outputs": [
    {
     "data": {
      "text/plain": [
       "- : unit = ()\n"
      ]
     },
     "execution_count": 11,
     "metadata": {},
     "output_type": "execute_result"
    }
   ],
   "source": [
    "(* 20 points *)\n",
    "assert (buckets (=) [1;2;3;4] = [[1];[2];[3];[4]])\n",
    "; assert (buckets (=) [1;2;3;4;2;3;4;3;4] = [[1];[2;2];[3;3;3];[4;4;4]])\n",
    "; assert (buckets (fun x y -> (=) (x mod 3) (y mod 3)) [1;2;3;4;5;6] = [[1;4];[2;5];[3;6]])\n",
    "(* BEGIN HIDDEN TESTS *)\n",
    "; assert (buckets (fun x y -> (=) (x mod 2) (y mod 2)) [1;2;3;4;5;6] = [[1; 3; 5]; [2; 4; 6]])\n",
    "(* END HIDDEN TESTS *)"
   ]
  },
  {
   "cell_type": "markdown",
   "metadata": {
    "deletable": false,
    "editable": false,
    "nbgrader": {
     "cell_type": "markdown",
     "checksum": "6574b5ef5c82bc0380a3879fb887393f",
     "grade": false,
     "grade_id": "cell-a1b5f25dd108d44d",
     "locked": true,
     "schema_version": 3,
     "solution": false
    }
   },
   "source": [
    "## Problem 6\n",
    "\n",
    "Write a function \n",
    "\n",
    "```ocaml\n",
    "remove_stutter : 'a list -> 'a list\n",
    "```\n",
    "\n",
    "that removes stuttering from the original list. For example, `remove_stutter [1;2;2;3;1;1;1;4;4;2;2]= [1;2;3;1;4;2]`. Option type may come in handy. "
   ]
  },
  {
   "cell_type": "code",
   "execution_count": 12,
   "metadata": {
    "deletable": false,
    "nbgrader": {
     "cell_type": "code",
     "checksum": "addcf1067f03a76da019f23f09ece155",
     "grade": false,
     "grade_id": "cell-8865e0dd05cbd32d",
     "locked": false,
     "schema_version": 3,
     "solution": true
    }
   },
   "outputs": [
    {
     "data": {
      "text/plain": [
       "val remove_stutter : 'a list * 'a option -> 'a list = <fun>\n"
      ]
     },
     "execution_count": 12,
     "metadata": {},
     "output_type": "execute_result"
    },
    {
     "data": {
      "text/plain": [
       "val remove_stutter : 'a list -> 'a list = <fun>\n"
      ]
     },
     "execution_count": 12,
     "metadata": {},
     "output_type": "execute_result"
    }
   ],
   "source": [
    "let rec remove_stutter (l,a)=\n",
    "match l with\n",
    "|[]->[]\n",
    "|hd::tl -> \n",
    "match a with Some(temp)->\n",
    "if(hd=temp) then remove_stutter (tl,Some(hd))\n",
    "else hd::remove_stutter (tl,Some(hd))\n",
    "|None->hd::remove_stutter (tl,Some(hd))\n",
    "let remove_stutter l =remove_stutter(l,None)"
   ]
  },
  {
   "cell_type": "code",
   "execution_count": 13,
   "metadata": {
    "deletable": false,
    "editable": false,
    "nbgrader": {
     "cell_type": "code",
     "checksum": "44d2f430f9271655725e4141cf06d385",
     "grade": true,
     "grade_id": "cell-aa3fb845581c6fce",
     "locked": true,
     "points": 15,
     "schema_version": 3,
     "solution": false
    }
   },
   "outputs": [
    {
     "data": {
      "text/plain": [
       "- : unit = ()\n"
      ]
     },
     "execution_count": 13,
     "metadata": {},
     "output_type": "execute_result"
    }
   ],
   "source": [
    "(* 15 points *)\n",
    "assert (remove_stutter [1;2;2;3;1;1;1;4;4;2;2] = [1; 2; 3; 1; 4; 2]) \n",
    "(* BEGIN HIDDEN TESTS *)\n",
    "; assert (remove_stutter [] = [])\n",
    "; assert (remove_stutter [1;1;1;1;1] = [1])\n",
    "; assert (remove_stutter [1;1;1;1;1;2] = [1;2])\n",
    "(* END HIDDEN TESTS *)"
   ]
  },
  {
   "cell_type": "markdown",
   "metadata": {
    "deletable": false,
    "editable": false,
    "nbgrader": {
     "cell_type": "markdown",
     "checksum": "b512b905b80d45f758a19345a61afd0d",
     "grade": false,
     "grade_id": "cell-4b542995895ed4a3",
     "locked": true,
     "schema_version": 3,
     "solution": false
    }
   },
   "source": [
    "## Problem 7\n",
    "\n",
    "Write a function\n",
    "\n",
    "```ocaml\n",
    "flatten : 'a list list -> 'a list\n",
    "```\n",
    "\n",
    "that flattens a list. For example, `flatten [[1;2];[3;4]] = [1;2;3;4]`."
   ]
  },
  {
   "cell_type": "code",
   "execution_count": 14,
   "metadata": {
    "deletable": false,
    "nbgrader": {
     "cell_type": "code",
     "checksum": "57427e4916913ae7243b0d48b9c34c81",
     "grade": false,
     "grade_id": "cell-1ba30bbe74fd3005",
     "locked": false,
     "schema_version": 3,
     "solution": true
    }
   },
   "outputs": [
    {
     "data": {
      "text/plain": [
       "val flatten : 'a list list -> 'a list = <fun>\n"
      ]
     },
     "execution_count": 14,
     "metadata": {},
     "output_type": "execute_result"
    }
   ],
   "source": [
    "let rec flatten l =\n",
    "match l with \n",
    "|[]->[]\n",
    "|hd::tl-> hd@flatten tl"
   ]
  },
  {
   "cell_type": "code",
   "execution_count": 15,
   "metadata": {
    "deletable": false,
    "editable": false,
    "nbgrader": {
     "cell_type": "code",
     "checksum": "cce5e53a2d78d3b05c804d57e92930fa",
     "grade": true,
     "grade_id": "cell-8e986c3f5dbf5e89",
     "locked": true,
     "points": 10,
     "schema_version": 3,
     "solution": false
    }
   },
   "outputs": [
    {
     "data": {
      "text/plain": [
       "- : unit = ()\n"
      ]
     },
     "execution_count": 15,
     "metadata": {},
     "output_type": "execute_result"
    }
   ],
   "source": [
    "(* 10 points *)\n",
    "assert (flatten ([[1;2];[3;4]]) = [1;2;3;4])\n",
    "(* BEGIN HIDDEN TESTS *)\n",
    "; assert (flatten ([[1;2];[];[3;4];[]]) = [1;2;3;4])\n",
    "(* END HIDDEN TESTS *)"
   ]
  },
  {
   "cell_type": "markdown",
   "metadata": {
    "deletable": false,
    "editable": false,
    "nbgrader": {
     "cell_type": "markdown",
     "checksum": "9ad4e26b104bc0580c545e116320850e",
     "grade": false,
     "grade_id": "cell-530261255defad7b",
     "locked": true,
     "schema_version": 3,
     "solution": false
    }
   },
   "source": [
    "## Problem 8\n",
    "\n",
    "Write a function\n",
    "\n",
    "```ocaml\n",
    "\n",
    "type 'a tree = Leaf | Node of 'a tree * 'a * 'a tree\n",
    "\n",
    "fold_inorder : ('a -> 'b -> 'a) -> 'a -> 'b tree -> 'a\n",
    "```\n",
    "\n",
    "That does a inorder fold of the tree. For example,\n",
    "\n",
    "`fold_inorder (fun acc x -> acc @ [x]) [] (Node (Node (Leaf,1,Leaf), 2, Node (Leaf,3,Leaf))) = [1;2;3]`"
   ]
  },
  {
   "cell_type": "code",
   "execution_count": 16,
   "metadata": {
    "deletable": false,
    "nbgrader": {
     "cell_type": "code",
     "checksum": "9d1e9b8210eba0f66cfa09103cf86b41",
     "grade": false,
     "grade_id": "cell-7170388040d2ef4b",
     "locked": false,
     "schema_version": 3,
     "solution": true
    }
   },
   "outputs": [
    {
     "data": {
      "text/plain": [
       "type 'a tree = Leaf | Node of 'a tree * 'a * 'a tree\n"
      ]
     },
     "execution_count": 16,
     "metadata": {},
     "output_type": "execute_result"
    },
    {
     "data": {
      "text/plain": [
       "val fold_inorder : ('a -> 'b -> 'a) -> 'a -> 'b tree -> 'a = <fun>\n"
      ]
     },
     "execution_count": 16,
     "metadata": {},
     "output_type": "execute_result"
    }
   ],
   "source": [
    "type 'a tree = Leaf | Node of 'a tree * 'a * 'a tree\n",
    "\n",
    "let rec fold_inorder f acc t =\n",
    "  match t with \n",
    "  |Leaf->acc\n",
    "  |Node(x,y,z)->fold_inorder f(f (fold_inorder f acc x) y) z "
   ]
  },
  {
   "cell_type": "code",
   "execution_count": 17,
   "metadata": {
    "deletable": false,
    "editable": false,
    "nbgrader": {
     "cell_type": "code",
     "checksum": "f2cdd4122912d2b39f14474a8eaf8e47",
     "grade": true,
     "grade_id": "cell-8bd22519c4af64bb",
     "locked": true,
     "points": 15,
     "schema_version": 3,
     "solution": false
    }
   },
   "outputs": [
    {
     "data": {
      "text/plain": [
       "- : unit = ()\n"
      ]
     },
     "execution_count": 17,
     "metadata": {},
     "output_type": "execute_result"
    }
   ],
   "source": [
    "(* 15 points *)\n",
    "assert (fold_inorder (fun acc x -> acc @ [x]) [] (Node (Node (Leaf,1,Leaf), 2, Node (Leaf,3,Leaf))) = [1;2;3]) \n",
    "(* BEGIN HIDDEN TESTS *)\n",
    "; assert (fold_inorder (fun acc x -> x + acc) 0 (Node (Node (Leaf,1,Leaf), 2, Node (Leaf,3,Leaf))) = 6)\n",
    "; assert (fold_inorder (fun acc x -> if acc < x then x else failwith \"acc > x\") 0 (Node (Node (Leaf,1,Leaf), 2, Node (Leaf,3,Leaf))) = 3)\n",
    "(* END HIDDEN TESTS *)"
   ]
  },
  {
   "cell_type": "markdown",
   "metadata": {
    "deletable": false,
    "editable": false,
    "nbgrader": {
     "cell_type": "markdown",
     "checksum": "e4ed2eac6685fe380c2287973d442df1",
     "grade": false,
     "grade_id": "cell-2b105ceb8932244c",
     "locked": true,
     "schema_version": 3,
     "solution": false
    }
   },
   "source": [
    "## Problem 9\n",
    "\n",
    "The usual recursive formulation of fibonacci function \n",
    "\n",
    "```ocaml\n",
    "let rec fib n = \n",
    "  if n = 0 then 0\n",
    "  else if n = 1 then 1\n",
    "  else fib (n-1) + fib (n-2)\n",
    "```\n",
    "\n",
    "has exponential running time. It will take a long time to compute `fib 50`. You might have to interrupt the kernel if you did try to do `fib 50` in the notebook.\n",
    "\n",
    "But we know that fibonacci number can be computed in linear time by remembering just the current `cur` and the previous `prev` fibonacci number. In this case, the next fibonacci number is computed as the sum of the current and the previous numbers. Then the program continues by setting `prev` to be `cur` and `cur` to be `cur + prev`.\n",
    "\n",
    "Implement a tail recursive function `fib_tailrec` that uses this idea and computes the `nth` fibonacci number in linear time. \n",
    "\n",
    "```ocaml\n",
    "fib_tailrec : int -> int\n",
    "```"
   ]
  },
  {
   "cell_type": "code",
   "execution_count": 18,
   "metadata": {
    "deletable": false,
    "nbgrader": {
     "cell_type": "code",
     "checksum": "2dd28d6a245770d7ee8e676fc95d1970",
     "grade": false,
     "grade_id": "cell-39286aaf6b703959",
     "locked": false,
     "schema_version": 3,
     "solution": true
    }
   },
   "outputs": [
    {
     "data": {
      "text/plain": [
       "val fib_tailrec : int * int * int -> int = <fun>\n"
      ]
     },
     "execution_count": 18,
     "metadata": {},
     "output_type": "execute_result"
    },
    {
     "data": {
      "text/plain": [
       "val fib_tailrec : int -> int = <fun>\n"
      ]
     },
     "execution_count": 18,
     "metadata": {},
     "output_type": "execute_result"
    }
   ],
   "source": [
    "let rec fib_tailrec (a,b,n) =\n",
    "  if n==0 then a\n",
    "  else\n",
    "  if n==1 then b\n",
    "  else fib_tailrec ((b),(a+b),(n-1))\n",
    " let fib_tailrec n=fib_tailrec(0,1,n)"
   ]
  },
  {
   "cell_type": "code",
   "execution_count": 19,
   "metadata": {
    "deletable": false,
    "editable": false,
    "nbgrader": {
     "cell_type": "code",
     "checksum": "9fd4c43cd78d07efe7d6553ae980bfe6",
     "grade": true,
     "grade_id": "cell-57d3e7608b2286f5",
     "locked": true,
     "points": 15,
     "schema_version": 3,
     "solution": false
    }
   },
   "outputs": [
    {
     "data": {
      "text/plain": [
       "- : unit = ()\n"
      ]
     },
     "execution_count": 19,
     "metadata": {},
     "output_type": "execute_result"
    }
   ],
   "source": [
    "(* 15 points *)\n",
    "assert (fib_tailrec 50 = 12586269025)\n",
    "(* BEGIN HIDDEN TESTS *)\n",
    "; assert (fib_tailrec 100 = 3736710778780434371)\n",
    "; assert (fib_tailrec 0 = 0)\n",
    "(* END HIDDEN TESTS *)"
   ]
  }
 ],
 "metadata": {
  "kernelspec": {
   "display_name": "OCaml 4.10",
   "language": "OCaml",
   "name": "ocaml-jupyter"
  },
  "language_info": {
   "codemirror_mode": "text/x-ocaml",
   "file_extension": ".ml",
   "mimetype": "text/x-ocaml",
   "name": "OCaml",
   "nbconverter_exporter": null,
   "pygments_lexer": "OCaml",
   "version": "4.10.0"
  }
 },
 "nbformat": 4,
 "nbformat_minor": 2
}
