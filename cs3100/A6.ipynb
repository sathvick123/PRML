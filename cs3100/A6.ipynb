{
 "cells": [
  {
   "cell_type": "markdown",
   "metadata": {},
   "source": [
    "Before you turn this problem in, make sure everything runs as expected. First, **restart the kernel** (in the menubar, select Kernel$\\rightarrow$Restart) and then **run all cells** (in the menubar, select Cell$\\rightarrow$Run All).\n",
    "\n",
    "Make sure you fill in any place that says `YOUR CODE HERE` or \"YOUR ANSWER HERE\", as well as your name below:"
   ]
  },
  {
   "cell_type": "code",
   "execution_count": 1,
   "metadata": {},
   "outputs": [
    {
     "data": {
      "text/plain": [
       "val name : string = \"Sathvick reddy beeravalli\"\n"
      ]
     },
     "execution_count": 1,
     "metadata": {},
     "output_type": "execute_result"
    },
    {
     "data": {
      "text/plain": [
       "val rollno : string = \"cs19b010\"\n"
      ]
     },
     "execution_count": 1,
     "metadata": {},
     "output_type": "execute_result"
    }
   ],
   "source": [
    "let name = \"Sathvick reddy beeravalli\"\n",
    "let rollno = \"cs19b010\""
   ]
  },
  {
   "cell_type": "markdown",
   "metadata": {},
   "source": [
    "## Important notes about grading:\n",
    "\n",
    "1. **Compiler errors:** All code you submit must compile. Programs that do not compile will probably receive an automatic zero. If you are having trouble getting your assignment to compile, please visit consulting hours. If you run out of time, it is better to comment out the parts that do not compile, than hand in a more complete file that does not compile.\n",
    "2. **Late assignments:** Please carefully review the course website's policy on late assignments, as all assignments handed in after the deadline will be considered late. Verify on moodle that you have submitted the correct version, before the deadline. Submitting the incorrect version before the deadline and realizing that you have done so after the deadline will be counted as a late submission."
   ]
  },
  {
   "cell_type": "markdown",
   "metadata": {
    "deletable": false,
    "editable": false,
    "nbgrader": {
     "cell_type": "markdown",
     "checksum": "485156e97d9fe896e284ee206e904f16",
     "grade": false,
     "grade_id": "cell-19709d5de597aa34",
     "locked": true,
     "schema_version": 3,
     "solution": false,
     "task": false
    }
   },
   "source": [
    "## A Prolog interpreter in OCaml\n",
    "\n",
    "In this assignment, you will implement a Prolog interpreter in OCaml with support for backtracking (recover from bad choices) and choice points (produce multiple results).\n",
    "\n",
    "We will start with the definition of terms, predicates, clauses, goals and programs."
   ]
  },
  {
   "cell_type": "code",
   "execution_count": 2,
   "metadata": {
    "deletable": false,
    "editable": false,
    "nbgrader": {
     "cell_type": "code",
     "checksum": "6c2da10587cbcf862b42991b85a1694d",
     "grade": false,
     "grade_id": "cell-850219ab9c627b3e",
     "locked": true,
     "schema_version": 3,
     "solution": false,
     "task": false
    }
   },
   "outputs": [
    {
     "data": {
      "text/plain": [
       "type constant = Constant of string\n"
      ]
     },
     "execution_count": 2,
     "metadata": {},
     "output_type": "execute_result"
    },
    {
     "data": {
      "text/plain": [
       "type variable = Variable of string\n"
      ]
     },
     "execution_count": 2,
     "metadata": {},
     "output_type": "execute_result"
    },
    {
     "data": {
      "text/plain": [
       "type func = Function of string * term list\n",
       "and term = C of constant | V of variable | F of func\n"
      ]
     },
     "execution_count": 2,
     "metadata": {},
     "output_type": "execute_result"
    },
    {
     "data": {
      "text/plain": [
       "type predicate = Predicate of string * term list\n"
      ]
     },
     "execution_count": 2,
     "metadata": {},
     "output_type": "execute_result"
    },
    {
     "data": {
      "text/plain": [
       "type head = predicate\n"
      ]
     },
     "execution_count": 2,
     "metadata": {},
     "output_type": "execute_result"
    },
    {
     "data": {
      "text/plain": [
       "type body = predicate list\n"
      ]
     },
     "execution_count": 2,
     "metadata": {},
     "output_type": "execute_result"
    },
    {
     "data": {
      "text/plain": [
       "type clause = Fact of head | Rule of head * body\n"
      ]
     },
     "execution_count": 2,
     "metadata": {},
     "output_type": "execute_result"
    },
    {
     "data": {
      "text/plain": [
       "type goal = predicate list\n"
      ]
     },
     "execution_count": 2,
     "metadata": {},
     "output_type": "execute_result"
    },
    {
     "data": {
      "text/plain": [
       "type program = clause list\n"
      ]
     },
     "execution_count": 2,
     "metadata": {},
     "output_type": "execute_result"
    }
   ],
   "source": [
    "type constant = Constant of string\n",
    "type variable = Variable of string\n",
    "type func = Function of string * term list\n",
    "and term = C of constant | V of variable | F of func\n",
    "\n",
    "type predicate = Predicate of string * term list\n",
    "\n",
    "type head = predicate\n",
    "type body = predicate list\n",
    "\n",
    "type clause = Fact of head | Rule of head * body\n",
    "\n",
    "type goal = predicate list\n",
    "\n",
    "type program = clause list"
   ]
  },
  {
   "cell_type": "markdown",
   "metadata": {
    "deletable": false,
    "editable": false,
    "nbgrader": {
     "cell_type": "markdown",
     "checksum": "51f04252716e8caf4c141b41abffd6e4",
     "grade": false,
     "grade_id": "cell-67006c29f852db56",
     "locked": true,
     "schema_version": 3,
     "solution": false,
     "task": false
    }
   },
   "source": [
    "The following stringification functions should help you debug the interpreter. "
   ]
  },
  {
   "cell_type": "code",
   "execution_count": 3,
   "metadata": {
    "deletable": false,
    "editable": false,
    "nbgrader": {
     "cell_type": "code",
     "checksum": "d30001f0b52434a66087f8917b49cde6",
     "grade": false,
     "grade_id": "cell-1ce7f8577e2f83b6",
     "locked": true,
     "schema_version": 3,
     "solution": false,
     "task": false
    }
   },
   "outputs": [
    {
     "data": {
      "text/plain": [
       "val string_of_f_list : ('a -> string) -> 'a list -> string = <fun>\n"
      ]
     },
     "execution_count": 3,
     "metadata": {},
     "output_type": "execute_result"
    },
    {
     "data": {
      "text/plain": [
       "val string_of_term : term -> string = <fun>\n"
      ]
     },
     "execution_count": 3,
     "metadata": {},
     "output_type": "execute_result"
    },
    {
     "data": {
      "text/plain": [
       "val string_of_predicate : predicate -> string = <fun>\n"
      ]
     },
     "execution_count": 3,
     "metadata": {},
     "output_type": "execute_result"
    },
    {
     "data": {
      "text/plain": [
       "val string_of_predicate_list : predicate list -> string = <fun>\n"
      ]
     },
     "execution_count": 3,
     "metadata": {},
     "output_type": "execute_result"
    },
    {
     "data": {
      "text/plain": [
       "val string_of_goal : predicate list -> string = <fun>\n"
      ]
     },
     "execution_count": 3,
     "metadata": {},
     "output_type": "execute_result"
    },
    {
     "data": {
      "text/plain": [
       "val string_of_clause : clause -> string = <fun>\n"
      ]
     },
     "execution_count": 3,
     "metadata": {},
     "output_type": "execute_result"
    },
    {
     "data": {
      "text/plain": [
       "val string_of_program : clause list -> string = <fun>\n"
      ]
     },
     "execution_count": 3,
     "metadata": {},
     "output_type": "execute_result"
    }
   ],
   "source": [
    "let rec string_of_f_list f tl =\n",
    "  let _, s = List.fold_left (fun (first, s) t -> \n",
    "    let prefix = if first then \"\" else s ^ \", \" in\n",
    "    false, prefix ^ (f t)) (true,\"\") tl\n",
    "  in \n",
    "  s\n",
    "\n",
    "let rec string_of_term t =\n",
    "  match t with\n",
    "  | C (Constant c) -> c\n",
    "  | V (Variable v) -> v\n",
    "  | F (Function (f,tl)) -> \n",
    "      f ^ \"(\" ^ (string_of_f_list string_of_term tl) ^ \")\"\n",
    "\n",
    "let string_of_predicate (Predicate (p,tl)) =\n",
    "  p ^ \"(\" ^ (string_of_f_list string_of_term tl) ^\")\"\n",
    "  \n",
    "let string_of_predicate_list pl =\n",
    "  string_of_f_list string_of_predicate pl\n",
    "  \n",
    "let string_of_goal g =\n",
    "  \"?- \" ^ (string_of_predicate_list g)\n",
    "\n",
    "let string_of_clause c =\n",
    "  match c with\n",
    "  | Fact f -> string_of_predicate f ^ \".\"\n",
    "  | Rule (h,b) -> string_of_predicate h ^ \" :- \" ^ (string_of_predicate_list b) ^ \".\"\n",
    "\n",
    "let string_of_program p =\n",
    "  List.fold_left (fun acc c -> acc ^ (string_of_clause c) ^ \"\\n\") \"\" p"
   ]
  },
  {
   "cell_type": "markdown",
   "metadata": {
    "deletable": false,
    "editable": false,
    "nbgrader": {
     "cell_type": "markdown",
     "checksum": "1e595cdef56b9f287ce409bab691af21",
     "grade": false,
     "grade_id": "cell-e7940771e46d768b",
     "locked": true,
     "schema_version": 3,
     "solution": false,
     "task": false
    }
   },
   "source": [
    "Below are more helper functions:"
   ]
  },
  {
   "cell_type": "code",
   "execution_count": 4,
   "metadata": {
    "deletable": false,
    "editable": false,
    "nbgrader": {
     "cell_type": "code",
     "checksum": "1e1bbaed6a135e897176d18375fceab0",
     "grade": false,
     "grade_id": "cell-ffdac7359cc5accb",
     "locked": true,
     "schema_version": 3,
     "solution": false,
     "task": false
    }
   },
   "outputs": [
    {
     "data": {
      "text/plain": [
       "val var : string -> variable = <fun>\n"
      ]
     },
     "execution_count": 4,
     "metadata": {},
     "output_type": "execute_result"
    },
    {
     "data": {
      "text/plain": [
       "val var_t : string -> term = <fun>\n"
      ]
     },
     "execution_count": 4,
     "metadata": {},
     "output_type": "execute_result"
    },
    {
     "data": {
      "text/plain": [
       "val const : string -> constant = <fun>\n"
      ]
     },
     "execution_count": 4,
     "metadata": {},
     "output_type": "execute_result"
    },
    {
     "data": {
      "text/plain": [
       "val const_t : string -> term = <fun>\n"
      ]
     },
     "execution_count": 4,
     "metadata": {},
     "output_type": "execute_result"
    },
    {
     "data": {
      "text/plain": [
       "val func : string -> term list -> func = <fun>\n"
      ]
     },
     "execution_count": 4,
     "metadata": {},
     "output_type": "execute_result"
    },
    {
     "data": {
      "text/plain": [
       "val func_t : string -> term list -> term = <fun>\n"
      ]
     },
     "execution_count": 4,
     "metadata": {},
     "output_type": "execute_result"
    },
    {
     "data": {
      "text/plain": [
       "val pred : string -> term list -> predicate = <fun>\n"
      ]
     },
     "execution_count": 4,
     "metadata": {},
     "output_type": "execute_result"
    },
    {
     "data": {
      "text/plain": [
       "val fact : head -> clause = <fun>\n"
      ]
     },
     "execution_count": 4,
     "metadata": {},
     "output_type": "execute_result"
    },
    {
     "data": {
      "text/plain": [
       "val rule : head -> body -> clause = <fun>\n"
      ]
     },
     "execution_count": 4,
     "metadata": {},
     "output_type": "execute_result"
    }
   ],
   "source": [
    "let var v = Variable v\n",
    "let var_t v = V (var v)\n",
    "let const c = Constant c\n",
    "let const_t c = C (Constant c)\n",
    "let func f l = Function (f,l)\n",
    "let func_t f l = F (func f l)\n",
    "let pred p l = Predicate (p,l)\n",
    "let fact f = Fact f\n",
    "let rule h b = Rule (h,b)"
   ]
  },
  {
   "cell_type": "markdown",
   "metadata": {
    "deletable": false,
    "editable": false,
    "nbgrader": {
     "cell_type": "markdown",
     "checksum": "c1b2cf4dc599d390b3d7d9a04982e7f2",
     "grade": false,
     "grade_id": "cell-9b1529f4a46180c0",
     "locked": true,
     "schema_version": 3,
     "solution": false,
     "task": false
    }
   },
   "source": [
    "## Problem 1\n",
    "\n",
    "In this problem, you will implement the function:\n",
    "\n",
    "```ocaml\n",
    "occurs_check : variable -> term -> bool\n",
    "```\n",
    "\n",
    "`occurs_check v t` returns `true` if the variable `v` occurs in `t`. "
   ]
  },
  {
   "cell_type": "code",
   "execution_count": 5,
   "metadata": {
    "deletable": false,
    "nbgrader": {
     "cell_type": "code",
     "checksum": "49b86af691464ea508363c697a081edf",
     "grade": false,
     "grade_id": "cell-ec625c2e0cf9df17",
     "locked": false,
     "schema_version": 3,
     "solution": true,
     "task": false
    }
   },
   "outputs": [
    {
     "data": {
      "text/plain": [
       "val check : variable -> term list -> bool = <fun>\n"
      ]
     },
     "execution_count": 5,
     "metadata": {},
     "output_type": "execute_result"
    },
    {
     "data": {
      "text/plain": [
       "val occurs_check : variable -> term -> bool = <fun>\n"
      ]
     },
     "execution_count": 5,
     "metadata": {},
     "output_type": "execute_result"
    }
   ],
   "source": [
    "let rec check v lis=\n",
    "match lis with\n",
    "|[]->false\n",
    "|hd::tl-> match hd with\n",
    "          | C (Constant c) -> check v tl\n",
    "          | V (Variable var) -> if(v=(Variable var)) then true else check v tl\n",
    "          | F (Function (f,tl1)) ->  check v tl1\n",
    " \n",
    " \n",
    "let rec occurs_check v t = \n",
    "match t with\n",
    " | C (Constant c) -> false\n",
    " | V (Variable var) -> if(v=(Variable var)) then true else false\n",
    " | F (Function (f,tl)) -> check v tl "
   ]
  },
  {
   "cell_type": "code",
   "execution_count": 6,
   "metadata": {
    "deletable": false,
    "editable": false,
    "nbgrader": {
     "cell_type": "code",
     "checksum": "7863b2304933d92402339e70c3a16269",
     "grade": true,
     "grade_id": "cell-9acf04576c956341",
     "locked": true,
     "points": 5,
     "schema_version": 3,
     "solution": false,
     "task": false
    }
   },
   "outputs": [
    {
     "data": {
      "text/plain": [
       "- : unit = ()\n"
      ]
     },
     "execution_count": 6,
     "metadata": {},
     "output_type": "execute_result"
    }
   ],
   "source": [
    "(* 5 points *)\n",
    "assert (occurs_check (var \"X\") (var_t \"X\"));\n",
    "assert (not (occurs_check (var \"X\") (var_t \"Y\")));\n",
    "assert (occurs_check (var \"X\") (func_t \"f\" [var_t \"X\"]))"
   ]
  },
  {
   "cell_type": "markdown",
   "metadata": {
    "deletable": false,
    "editable": false,
    "nbgrader": {
     "cell_type": "markdown",
     "checksum": "9946b346c4a01302df754a053ab859e9",
     "grade": false,
     "grade_id": "cell-e9ae49318a87096d",
     "locked": true,
     "schema_version": 3,
     "solution": false,
     "task": false
    }
   },
   "source": [
    "## Problem 2\n",
    "\n",
    "Implement the following functions which return the variables contained in them:\n",
    "\n",
    "```ocaml\n",
    "variables_of_term      : term -> VarSet.t\n",
    "variables_of_predicate : predicate -> VarSet.t\n",
    "variables_of_clause    : clause -> VarSet.t\n",
    "```"
   ]
  },
  {
   "cell_type": "code",
   "execution_count": 7,
   "metadata": {
    "deletable": false,
    "nbgrader": {
     "cell_type": "code",
     "checksum": "7f786bb631308d76579ce90f4a79cf20",
     "grade": false,
     "grade_id": "cell-ed4d6f79936e1c24",
     "locked": false,
     "schema_version": 3,
     "solution": true,
     "task": false
    }
   },
   "outputs": [
    {
     "name": "stderr",
     "output_type": "stream",
     "text": [
      "File \"[7]\", line 1, characters 64-82:\n",
      "1 | module VarSet = Set.Make(struct type t = variable let compare = Pervasives.compare end)\n",
      "                                                                    ^^^^^^^^^^^^^^^^^^\n",
      "Alert deprecated: module Stdlib.Pervasives\n",
      "Use Stdlib instead.\n",
      "\n",
      "If you need to stay compatible with OCaml < 4.07, you can use the \n",
      "stdlib-shims library: https://github.com/ocaml/stdlib-shims\n"
     ]
    },
    {
     "data": {
      "text/plain": [
       "module VarSet :\n",
       "  sig\n",
       "    type elt = variable\n",
       "    type t\n",
       "    val empty : t\n",
       "    val is_empty : t -> bool\n",
       "    val mem : elt -> t -> bool\n",
       "    val add : elt -> t -> t\n",
       "    val singleton : elt -> t\n",
       "    val remove : elt -> t -> t\n",
       "    val union : t -> t -> t\n",
       "    val inter : t -> t -> t\n",
       "    val disjoint : t -> t -> bool\n",
       "    val diff : t -> t -> t\n",
       "    val compare : t -> t -> int\n",
       "    val equal : t -> t -> bool\n",
       "    val subset : t -> t -> bool\n",
       "    val iter : (elt -> unit) -> t -> unit\n",
       "    val map : (elt -> elt) -> t -> t\n",
       "    val fold : (elt -> 'a -> 'a) -> t -> 'a -> 'a\n",
       "    val for_all : (elt -> bool) -> t -> bool\n",
       "    val exists : (elt -> bool) -> t -> bool\n",
       "    val filter : (elt -> bool) -> t -> t\n",
       "    val partition : (elt -> bool) -> t -> t * t\n",
       "    val cardinal : t -> int\n",
       "    val elements : t -> elt list\n",
       "    val min_elt : t -> elt\n",
       "    val min_elt_opt : t -> elt option\n",
       "    val max_elt : t -> elt\n",
       "    val max_elt_opt : t -> elt option\n",
       "    val choose : t -> elt\n",
       "    val choose_opt : t -> elt option\n",
       "    val split : elt -> t -> t * bool * t\n",
       "    val find : elt -> t -> elt\n",
       "    val find_opt : elt -> t -> elt option\n",
       "    val find_first : (elt -> bool) -> t -> elt\n",
       "    val find_first_opt : (elt -> bool) -> t -> elt option\n",
       "    val find_last : (elt -> bool) -> t -> elt\n",
       "    val find_last_opt : (elt -> bool) -> t -> elt option\n",
       "    val of_list : elt list -> t\n",
       "    val to_seq_from : elt -> t -> elt Seq.t\n",
       "    val to_seq : t -> elt Seq.t\n",
       "    val add_seq : elt Seq.t -> t -> t\n",
       "    val of_seq : elt Seq.t -> t\n",
       "  end\n"
      ]
     },
     "execution_count": 7,
     "metadata": {},
     "output_type": "execute_result"
    },
    {
     "data": {
      "text/plain": [
       "val check : term list -> VarSet.t -> VarSet.t = <fun>\n"
      ]
     },
     "execution_count": 7,
     "metadata": {},
     "output_type": "execute_result"
    },
    {
     "data": {
      "text/plain": [
       "val check : term list -> VarSet.t = <fun>\n"
      ]
     },
     "execution_count": 7,
     "metadata": {},
     "output_type": "execute_result"
    },
    {
     "data": {
      "text/plain": [
       "val variables_of_term : term -> VarSet.t -> VarSet.t = <fun>\n"
      ]
     },
     "execution_count": 7,
     "metadata": {},
     "output_type": "execute_result"
    },
    {
     "data": {
      "text/plain": [
       "val variables_of_term : term -> VarSet.t = <fun>\n"
      ]
     },
     "execution_count": 7,
     "metadata": {},
     "output_type": "execute_result"
    },
    {
     "data": {
      "text/plain": [
       "val variables_of_predicate : predicate -> VarSet.t = <fun>\n"
      ]
     },
     "execution_count": 7,
     "metadata": {},
     "output_type": "execute_result"
    },
    {
     "data": {
      "text/plain": [
       "val predlist : predicate list -> VarSet.t -> VarSet.t = <fun>\n"
      ]
     },
     "execution_count": 7,
     "metadata": {},
     "output_type": "execute_result"
    },
    {
     "data": {
      "text/plain": [
       "val variables_of_clause : clause -> VarSet.t = <fun>\n"
      ]
     },
     "execution_count": 7,
     "metadata": {},
     "output_type": "execute_result"
    }
   ],
   "source": [
    "module VarSet = Set.Make(struct type t = variable let compare = Pervasives.compare end)\n",
    "(* API Docs for Set : https://caml.inria.fr/pub/docs/manual-ocaml/libref/Set.S.html *)\n",
    "\n",
    "\n",
    "let rec check lis acc1=\n",
    "match lis with\n",
    "|[]->acc1\n",
    "|hd::tl-> match hd with\n",
    "          | C (Constant c) -> check  tl acc1\n",
    "          | V (Variable var) -> check  tl (VarSet.add (Variable var) acc1)\n",
    "          | F (Function (f,tl1)) ->  check  tl1 acc1\n",
    "let check  lis= let acc1=VarSet.empty in\n",
    " check lis acc1\n",
    "\n",
    "let rec variables_of_term t acc= \n",
    "    match t with\n",
    " | C (Constant c) -> acc\n",
    " | V (Variable var) -> VarSet.add (Variable var) acc\n",
    " | F (Function (f,tl)) -> check  tl \n",
    "let variables_of_term t= let acc=VarSet.empty in\n",
    " variables_of_term t acc\n",
    "  \n",
    "\n",
    "let variables_of_predicate (Predicate (_, l)) = \n",
    " check l \n",
    "\n",
    "let rec predlist lis acc1=\n",
    "match lis with\n",
    "|[]->acc1\n",
    "|h::t->predlist t (VarSet.union (variables_of_predicate h) acc1)\n",
    "  \n",
    "let variables_of_clause c =\n",
    "match c with\n",
    "  | Fact f -> variables_of_predicate f\n",
    "  | Rule (h,b) ->predlist b (variables_of_predicate h)   \n"
   ]
  },
  {
   "cell_type": "code",
   "execution_count": 8,
   "metadata": {
    "deletable": false,
    "editable": false,
    "nbgrader": {
     "cell_type": "code",
     "checksum": "56fb246eeb8d6e97325c1fde9e529fdb",
     "grade": true,
     "grade_id": "cell-cdba426183c2cb44",
     "locked": true,
     "points": 5,
     "schema_version": 3,
     "solution": false,
     "task": false
    }
   },
   "outputs": [
    {
     "data": {
      "text/plain": [
       "- : unit = ()\n"
      ]
     },
     "execution_count": 8,
     "metadata": {},
     "output_type": "execute_result"
    }
   ],
   "source": [
    "(* 5 points *)\n",
    "assert (variables_of_term (func_t \"f\" [var_t \"X\"; var_t \"Y\"; const_t \"a\"]) = \n",
    "        VarSet.of_list [var \"X\"; var \"Y\"]);\n",
    "assert (variables_of_predicate (pred \"p\" [var_t \"X\"; var_t \"Y\"; const_t \"a\"]) = \n",
    "        VarSet.of_list [var \"X\"; var \"Y\"]);\n",
    "assert (variables_of_clause (fact @@ pred \"p\" [var_t \"X\"; var_t \"Y\"; const_t \"a\"]) = \n",
    "        VarSet.of_list [var \"X\"; var \"Y\"]);\n",
    "assert (variables_of_clause (rule (pred \"p\" [var_t \"X\"; var_t \"Y\"; const_t \"a\"]) [pred \"q\" [const_t \"a\"; const_t \"b\"; const_t \"a\"]])= \n",
    "        VarSet.of_list [var \"X\"; var \"Y\"])"
   ]
  },
  {
   "cell_type": "markdown",
   "metadata": {
    "deletable": false,
    "editable": false,
    "nbgrader": {
     "cell_type": "markdown",
     "checksum": "62c7436c9abaaeb1827a648c07f6c9c4",
     "grade": false,
     "grade_id": "cell-046fe2476691fbc4",
     "locked": true,
     "schema_version": 3,
     "solution": false,
     "task": false
    }
   },
   "source": [
    "## Problem 3\n",
    "\n",
    "The value of type `term Substitution.t` is a OCaml map whose key is of type `variable` and value is of type `term`. In other words, it is map from variables to terms. Implement substitution functions that takes a `term Substitution.t` and uses that to perform the substitution:\n",
    "\n",
    "```ocaml\n",
    "substitute_in_term : term Substitution.t -> term -> term\n",
    "substitute_in_predicate : term Substitution.t -> predicate -> predicate\n",
    "substitute_in_clause : term Substitution.t -> clause -> clause\n",
    "```"
   ]
  },
  {
   "cell_type": "code",
   "execution_count": 9,
   "metadata": {
    "deletable": false,
    "nbgrader": {
     "cell_type": "code",
     "checksum": "7122d31281b581bca77e0dc8c09db4ec",
     "grade": false,
     "grade_id": "cell-99475c4c37156fc5",
     "locked": false,
     "schema_version": 3,
     "solution": true,
     "task": false
    }
   },
   "outputs": [
    {
     "name": "stderr",
     "output_type": "stream",
     "text": [
      "File \"[9]\", line 40, characters 71-89:\n",
      "40 |  module Substitution = Map.Make(struct type t = variable let compare = Pervasives.compare end)\n",
      "                                                                            ^^^^^^^^^^^^^^^^^^\n",
      "Alert deprecated: module Stdlib.Pervasives\n",
      "Use Stdlib instead.\n",
      "\n",
      "If you need to stay compatible with OCaml < 4.07, you can use the \n",
      "stdlib-shims library: https://github.com/ocaml/stdlib-shims\n"
     ]
    },
    {
     "data": {
      "text/plain": [
       "module Substitution :\n",
       "  sig\n",
       "    type key = variable\n",
       "    type +'a t\n",
       "    val empty : 'a t\n",
       "    val is_empty : 'a t -> bool\n",
       "    val mem : key -> 'a t -> bool\n",
       "    val add : key -> 'a -> 'a t -> 'a t\n",
       "    val update : key -> ('a option -> 'a option) -> 'a t -> 'a t\n",
       "    val singleton : key -> 'a -> 'a t\n",
       "    val remove : key -> 'a t -> 'a t\n",
       "    val merge :\n",
       "      (key -> 'a option -> 'b option -> 'c option) -> 'a t -> 'b t -> 'c t\n",
       "    val union : (key -> 'a -> 'a -> 'a option) -> 'a t -> 'a t -> 'a t\n",
       "    val compare : ('a -> 'a -> int) -> 'a t -> 'a t -> int\n",
       "    val equal : ('a -> 'a -> bool) -> 'a t -> 'a t -> bool\n",
       "    val iter : (key -> 'a -> unit) -> 'a t -> unit\n",
       "    val fold : (key -> 'a -> 'b -> 'b) -> 'a t -> 'b -> 'b\n",
       "    val for_all : (key -> 'a -> bool) -> 'a t -> bool\n",
       "    val exists : (key -> 'a -> bool) -> 'a t -> bool\n",
       "    val filter : (key -> 'a -> bool) -> 'a t -> 'a t\n",
       "    val partition : (key -> 'a -> bool) -> 'a t -> 'a t * 'a t\n",
       "    val cardinal : 'a t -> int\n",
       "    val bindings : 'a t -> (key * 'a) list\n",
       "    val min_binding : 'a t -> key * 'a\n",
       "    val min_binding_opt : 'a t -> (key * 'a) option\n",
       "    val max_binding : 'a t -> key * 'a\n",
       "    val max_binding_opt : 'a t -> (key * 'a) option\n",
       "    val choose : 'a t -> key * 'a\n",
       "    val choose_opt : 'a t -> (key * 'a) option\n",
       "    val split : key -> 'a t -> 'a t * 'a option * 'a t\n",
       "    val find : key -> 'a t -> 'a\n",
       "    val find_opt : key -> 'a t -> 'a option\n",
       "    val find_first : (key -> bool) -> 'a t -> key * 'a\n",
       "    val find_first_opt : (key -> bool) -> 'a t -> (key * 'a) option\n",
       "    val find_last : (key -> bool) -> 'a t -> key * 'a\n",
       "    val find_last_opt : (key -> bool) -> 'a t -> (key * 'a) option\n",
       "    val map : ('a -> 'b) -> 'a t -> 'b t\n",
       "    val mapi : (key -> 'a -> 'b) -> 'a t -> 'b t\n",
       "    val to_seq : 'a t -> (key * 'a) Seq.t\n",
       "    val to_seq_from : key -> 'a t -> (key * 'a) Seq.t\n",
       "    val add_seq : (key * 'a) Seq.t -> 'a t -> 'a t\n",
       "    val of_seq : (key * 'a) Seq.t -> 'a t\n",
       "  end\n"
      ]
     },
     "execution_count": 9,
     "metadata": {},
     "output_type": "execute_result"
    },
    {
     "data": {
      "text/plain": [
       "val string_of_substitution : term Substitution.t -> string = <fun>\n"
      ]
     },
     "execution_count": 9,
     "metadata": {},
     "output_type": "execute_result"
    },
    {
     "data": {
      "text/plain": [
       "val check : term Substitution.t -> term list -> term list = <fun>\n"
      ]
     },
     "execution_count": 9,
     "metadata": {},
     "output_type": "execute_result"
    },
    {
     "data": {
      "text/plain": [
       "val substitute_in_term : term Substitution.t -> term -> term = <fun>\n"
      ]
     },
     "execution_count": 9,
     "metadata": {},
     "output_type": "execute_result"
    },
    {
     "data": {
      "text/plain": [
       "val substitute_in_predicate : term Substitution.t -> predicate -> predicate =\n",
       "  <fun>\n"
      ]
     },
     "execution_count": 9,
     "metadata": {},
     "output_type": "execute_result"
    },
    {
     "data": {
      "text/plain": [
       "val sub : term Substitution.t -> predicate list -> predicate list = <fun>\n"
      ]
     },
     "execution_count": 9,
     "metadata": {},
     "output_type": "execute_result"
    },
    {
     "data": {
      "text/plain": [
       "val substitute_in_clause : term Substitution.t -> clause -> clause = <fun>\n"
      ]
     },
     "execution_count": 9,
     "metadata": {},
     "output_type": "execute_result"
    }
   ],
   "source": [
    "(*module Substitution = Map.Make(struct type t = variable let compare = Pervasives.compare end)\n",
    "(* See API docs for OCaml Map: https://caml.inria.fr/pub/docs/manual-ocaml/libref/Map.S.html *)\n",
    "\n",
    "let string_of_substitution s =\n",
    "  \"{\" ^ (Substitution.fold (fun (Variable v) t s -> s ^ \"; \" ^ v ^ \" -> \" ^ (string_of_term t)) s \"\") ^ \"}\"\n",
    "\n",
    "\n",
    "let rec check s lis =\n",
    "match lis with\n",
    "|[]->[]\n",
    "|hd::tl-> match hd with\n",
    "          | C (Constant c) -> hd::(check s tl) \n",
    "          | V (Variable var) -> if (Substitution.mem (Variable var) s) then (Substitution.find (Variable var) s)::(check s tl ) else hd::(check s tl)\n",
    "          | F (Function (f,tl1)) -> (F (Function(f,(check  s tl1))))::(check s tl)\n",
    "\n",
    "\n",
    "let rec substitute_in_term s t =\n",
    "  match t with\n",
    " | C (Constant c) -> t\n",
    " | V (Variable var) ->if (Substitution.mem (Variable var) s) then (Substitution.find (Variable var) s) else t\n",
    " | F (Function (f,tl)) ->F (Function(f,(check s tl)))   \n",
    "\n",
    "\n",
    "\n",
    "let rec substitute_in_predicate s (Predicate (p,l)) =\n",
    " Predicate(p,check s l)\n",
    "\n",
    "\n",
    "let rec predlist s lis acc1=\n",
    "match lis with\n",
    "|[]->acc1\n",
    "|h::t->predlist s t ((substitute_in_predicate s h)::acc1)\n",
    "\n",
    "let substitute_in_clause s c =\n",
    "match c with\n",
    "  | Fact f ->Fact (substitute_in_predicate s f) \n",
    "  | Rule (h,b) ->Rule((substitute_in_predicate s h),(predlist s b []))*)\n",
    "  \n",
    "  \n",
    " module Substitution = Map.Make(struct type t = variable let compare = Pervasives.compare end)\n",
    "(* See API docs for OCaml Map: https://caml.inria.fr/pub/docs/manual-ocaml/libref/Map.S.html *)\n",
    "\n",
    "let string_of_substitution s =\n",
    "  \"{\" ^ (Substitution.fold (fun (Variable v) t s -> s ^ \"; \" ^ v ^ \" -> \" ^ (string_of_term t)) s \"\") ^ \"}\"\n",
    "\n",
    "\n",
    "\n",
    "\n",
    "\n",
    "\n",
    "let rec check s lis =\n",
    "match lis with\n",
    "|[]->[]\n",
    "|hd::tl-> match hd with\n",
    "          | C (Constant c) -> hd::(check s tl) \n",
    "          | V (Variable var) -> if (Substitution.mem (Variable var) s) then (Substitution.find (Variable var) s)::(check s tl ) else hd::(check s tl)\n",
    "          | F (Function (f,tl1)) -> (F (Function(f,(check  s tl1))))::(check s tl)\n",
    "\n",
    "\n",
    "let rec substitute_in_term s t =\n",
    "  match t with\n",
    " | C (Constant c) -> t\n",
    " | V (Variable var) ->if (Substitution.mem (Variable var) s) then (Substitution.find (Variable var) s) else t\n",
    " | F (Function (f,tl)) ->F (Function(f,(check s tl)))   \n",
    "\n",
    "\n",
    "let rec substitute_in_predicate s (Predicate (p,l)) =\n",
    " Predicate(p,check s l)\n",
    "\n",
    "\n",
    "\n",
    "(*let rec substitute_in_predicate s (Predicate (p,l)) =\n",
    " Predicate(p,List.fold_left(fun acc x-> acc@[substitute_in_term s x]) [] l)\n",
    "*)\n",
    "\n",
    "\n",
    "\n",
    "let sub s pl = List.fold_left(fun acc x-> acc@[substitute_in_predicate s x]) [] pl\n",
    "\n",
    "\n",
    "let substitute_in_clause s c =\n",
    "match c with\n",
    "  | Fact f ->Fact (substitute_in_predicate s f) \n",
    "  | Rule (h,b) ->Rule ((substitute_in_predicate s h),(List.fold_left(fun acc x-> acc@[substitute_in_predicate s x])[] b)) \n",
    "  "
   ]
  },
  {
   "cell_type": "code",
   "execution_count": 10,
   "metadata": {},
   "outputs": [
    {
     "data": {
      "text/plain": [
       "- : unit = ()\n"
      ]
     },
     "execution_count": 10,
     "metadata": {},
     "output_type": "execute_result"
    }
   ],
   "source": [
    "let s = \n",
    "  let open Substitution in \n",
    "  add (var \"Y\") (const_t \"0\") (add (var \"X\") (var_t \"Y\") empty)\n",
    "in\n",
    "assert (substitute_in_term s (func_t \"f\" [var_t \"X\"; var_t \"Y\"; const_t \"a\"]) = \n",
    "        func_t \"f\" [var_t \"Y\"; const_t \"0\"; const_t \"a\"]);\n",
    "assert (substitute_in_predicate s (pred \"p\" [var_t \"X\"; var_t \"Y\"; const_t \"a\"]) = \n",
    "        pred \"p\" [var_t \"Y\"; const_t \"0\"; const_t \"a\"]);"
   ]
  },
  {
   "cell_type": "code",
   "execution_count": 11,
   "metadata": {
    "deletable": false,
    "editable": false,
    "nbgrader": {
     "cell_type": "code",
     "checksum": "2e3314343522bd6143ca2eeec4df78b4",
     "grade": true,
     "grade_id": "cell-54f9db0e71e63244",
     "locked": true,
     "points": 10,
     "schema_version": 3,
     "solution": false,
     "task": false
    }
   },
   "outputs": [
    {
     "data": {
      "text/plain": [
       "- : unit = ()\n"
      ]
     },
     "execution_count": 11,
     "metadata": {},
     "output_type": "execute_result"
    }
   ],
   "source": [
    "(* 10 points *)\n",
    "let s = \n",
    "  let open Substitution in \n",
    "  add (var \"Y\") (const_t \"0\") (add (var \"X\") (var_t \"Y\") empty)\n",
    "in\n",
    "assert (substitute_in_term s (func_t \"f\" [var_t \"X\"; var_t \"Y\"; const_t \"a\"]) = \n",
    "        func_t \"f\" [var_t \"Y\"; const_t \"0\"; const_t \"a\"]);\n",
    "assert (substitute_in_predicate s (pred \"p\" [var_t \"X\"; var_t \"Y\"; const_t \"a\"]) = \n",
    "        pred \"p\" [var_t \"Y\"; const_t \"0\"; const_t \"a\"]);\n",
    "assert (substitute_in_clause s (fact @@ pred \"p\" [var_t \"X\"; var_t \"Y\"; const_t \"a\"]) = \n",
    "        (fact @@ pred \"p\" [var_t \"Y\"; const_t \"0\"; const_t \"a\"]));\n",
    "assert (substitute_in_clause s (rule (pred \"p\" [var_t \"X\"; var_t \"Y\"; const_t \"a\"]) [pred \"q\" [const_t \"a\"; const_t \"b\"; const_t \"a\"]]) = \n",
    "        (rule (pred \"p\" [var_t \"Y\"; const_t \"0\"; const_t \"a\"]) [pred \"q\" [const_t \"a\"; const_t \"b\"; const_t \"a\"]]))"
   ]
  },
  {
   "cell_type": "markdown",
   "metadata": {
    "deletable": false,
    "editable": false,
    "nbgrader": {
     "cell_type": "markdown",
     "checksum": "6b46914a350b710b8d3eb56a90fe3083",
     "grade": false,
     "grade_id": "cell-6d4f2f7c721e109a",
     "locked": true,
     "schema_version": 3,
     "solution": false,
     "task": false
    }
   },
   "source": [
    "We define a function `freshen` that given a clause, returns a clause where are the variables have been renamed with fresh variables. "
   ]
  },
  {
   "cell_type": "code",
   "execution_count": 12,
   "metadata": {
    "deletable": false,
    "editable": false,
    "nbgrader": {
     "cell_type": "code",
     "checksum": "e8a0aa89d3680b8570bdff5e77bff84c",
     "grade": false,
     "grade_id": "cell-a1c09fcbea00af26",
     "locked": true,
     "schema_version": 3,
     "solution": false,
     "task": false
    }
   },
   "outputs": [
    {
     "data": {
      "text/plain": [
       "val counter : int ref = {contents = 0}\n"
      ]
     },
     "execution_count": 12,
     "metadata": {},
     "output_type": "execute_result"
    },
    {
     "data": {
      "text/plain": [
       "val fresh : unit -> term = <fun>\n"
      ]
     },
     "execution_count": 12,
     "metadata": {},
     "output_type": "execute_result"
    },
    {
     "data": {
      "text/plain": [
       "val freshen : clause -> clause = <fun>\n"
      ]
     },
     "execution_count": 12,
     "metadata": {},
     "output_type": "execute_result"
    }
   ],
   "source": [
    "let counter = ref 0\n",
    "let fresh () = \n",
    "  let c = !counter in\n",
    "  counter := !counter + 1;\n",
    "  V (Variable (\"_G\" ^ string_of_int c))\n",
    "\n",
    "let freshen c =\n",
    "  let vars = variables_of_clause c in\n",
    "  let s = VarSet.fold (fun v s -> Substitution.add v (fresh()) s) vars Substitution.empty in\n",
    "  substitute_in_clause s c"
   ]
  },
  {
   "cell_type": "markdown",
   "metadata": {
    "deletable": false,
    "editable": false,
    "nbgrader": {
     "cell_type": "markdown",
     "checksum": "412b5e84d8da86c5dc03b26995eaff70",
     "grade": false,
     "grade_id": "cell-b79de977263be26b",
     "locked": true,
     "schema_version": 3,
     "solution": false,
     "task": false
    }
   },
   "source": [
    "For example, "
   ]
  },
  {
   "cell_type": "code",
   "execution_count": 13,
   "metadata": {
    "deletable": false,
    "editable": false,
    "nbgrader": {
     "cell_type": "code",
     "checksum": "b1ed9f9ce1b4948b3a94b8a960d8a844",
     "grade": false,
     "grade_id": "cell-ef219dd17f6f35de",
     "locked": true,
     "schema_version": 3,
     "solution": false,
     "task": false
    }
   },
   "outputs": [
    {
     "data": {
      "text/plain": [
       "val c : clause =\n",
       "  Rule\n",
       "   (Predicate (\"p\", [V (Variable \"X\"); V (Variable \"Y\"); C (Constant \"a\")]),\n",
       "   [Predicate (\"q\", [V (Variable \"X\"); C (Constant \"b\"); C (Constant \"a\")])])\n"
      ]
     },
     "execution_count": 13,
     "metadata": {},
     "output_type": "execute_result"
    },
    {
     "data": {
      "text/plain": [
       "- : string = \"p(X, Y, a) :- q(X, b, a).\"\n"
      ]
     },
     "execution_count": 13,
     "metadata": {},
     "output_type": "execute_result"
    },
    {
     "data": {
      "text/plain": [
       "- : string = \"p(_G0, _G1, a) :- q(_G0, b, a).\"\n"
      ]
     },
     "execution_count": 13,
     "metadata": {},
     "output_type": "execute_result"
    }
   ],
   "source": [
    "let c = (rule (pred \"p\" [var_t \"X\"; var_t \"Y\"; const_t \"a\"]) [pred \"q\" [var_t \"X\"; const_t \"b\"; const_t \"a\"]])\n",
    "let _ = string_of_clause c\n",
    "let _ = string_of_clause (freshen c)"
   ]
  },
  {
   "cell_type": "markdown",
   "metadata": {
    "deletable": false,
    "editable": false,
    "nbgrader": {
     "cell_type": "markdown",
     "checksum": "40f485b9e26f06ddf3c82be44ae87ab4",
     "grade": false,
     "grade_id": "cell-03038038a4a27f91",
     "locked": true,
     "schema_version": 3,
     "solution": false,
     "task": false
    }
   },
   "source": [
    "## Problem 4\n",
    "\n",
    "Implement the function:\n",
    "\n",
    "```ocaml\n",
    "mgu : term -> term -> term Substitution.t\n",
    "```\n",
    "\n",
    "returns the most general unifier of the given terms. The function should raise the exception `Not_unfifiable`, if the given terms are not unifiable. \n",
    "\n",
    "Using `mgu`, implement the function:\n",
    "\n",
    "```ocaml\n",
    "mgu_predicate : predicate -> predicate -> term Substitution.t\n",
    "```\n",
    "\n",
    "which returns the most general unifier of the given predicates. "
   ]
  },
  {
   "cell_type": "code",
   "execution_count": 14,
   "metadata": {
    "deletable": false,
    "nbgrader": {
     "cell_type": "code",
     "checksum": "33090a7f9aae72b979d33c43d512e050",
     "grade": false,
     "grade_id": "cell-a6686c74cd97b186",
     "locked": false,
     "schema_version": 3,
     "solution": true,
     "task": false
    }
   },
   "outputs": [
    {
     "data": {
      "text/plain": [
       "exception Not_unifiable\n"
      ]
     },
     "execution_count": 14,
     "metadata": {},
     "output_type": "execute_result"
    },
    {
     "data": {
      "text/plain": [
       "val add :\n",
       "  (variable * term) list -> variable -> term -> (variable * term) list =\n",
       "  <fun>\n"
      ]
     },
     "execution_count": 14,
     "metadata": {},
     "output_type": "execute_result"
    },
    {
     "data": {
      "text/plain": [
       "val ltomap : (Substitution.key * 'a) list -> 'a Substitution.t = <fun>\n"
      ]
     },
     "execution_count": 14,
     "metadata": {},
     "output_type": "execute_result"
    },
    {
     "data": {
      "text/plain": [
       "val mgu1 : term -> term -> term Substitution.t -> term Substitution.t = <fun>\n"
      ]
     },
     "execution_count": 14,
     "metadata": {},
     "output_type": "execute_result"
    },
    {
     "data": {
      "text/plain": [
       "val mgu : term -> term -> term Substitution.t = <fun>\n"
      ]
     },
     "execution_count": 14,
     "metadata": {},
     "output_type": "execute_result"
    },
    {
     "data": {
      "text/plain": [
       "val fpred :\n",
       "  term Substitution.t -> term list -> term list -> term Substitution.t =\n",
       "  <fun>\n"
      ]
     },
     "execution_count": 14,
     "metadata": {},
     "output_type": "execute_result"
    },
    {
     "data": {
      "text/plain": [
       "val mgu_predicate : predicate -> predicate -> term Substitution.t = <fun>\n"
      ]
     },
     "execution_count": 14,
     "metadata": {},
     "output_type": "execute_result"
    }
   ],
   "source": [
    "exception Not_unifiable\n",
    "\n",
    "\n",
    "let rec add h key valu=\n",
    "match h with\n",
    "|[]->[(key,valu)]\n",
    "|(a,b)::t-> if(b=V(key)) then (a,valu)::(add t key valu)  else (a,b)::(add t key valu)\n",
    "\n",
    " \n",
    "\n",
    "let rec ltomap lis =\n",
    "match lis with\n",
    "|[]->Substitution.empty\n",
    "|(a,b)::t->Substitution.add a b (ltomap t)\n",
    "\n",
    "let rec mgu1 t1 t2 acc= \n",
    "  \n",
    " let t1=substitute_in_term acc t1 in\n",
    " let t2=substitute_in_term acc t2 in\n",
    "  \n",
    " match t1 with \n",
    " | C (Constant c) -> (match t2 with \n",
    "                     | C (Constant c1) -> if c1=c then acc else raise Not_unifiable\n",
    "                     | V (Variable v1) -> ltomap (add (Substitution.bindings acc) (var v1) (const_t c))\n",
    "                     | F (Function (f,tl1)) -> raise Not_unifiable)\n",
    "  \n",
    " | V (Variable v) -> (match t2 with \n",
    "                     | C (Constant c1) -> ltomap (add (Substitution.bindings acc) (var v) (const_t c1))\n",
    "                     | V (Variable v1) -> if v1=v then acc else ltomap (add (Substitution.bindings acc) (var v) (var_t v1))\n",
    "                     | F (Function (f,tl1)) -> if(occurs_check (var v) (func_t f tl1 ) ) then raise Not_unifiable else ltomap (add (Substitution.bindings acc) (var v) t2)\n",
    "                      )\n",
    " | F (Function (f,tl)) -> (\n",
    "                           match t2 with \n",
    "                           | C (Constant c1) ->  raise Not_unifiable\n",
    "                           | V (Variable v1) ->  if(occurs_check (var v1) (func_t f tl ) ) then raise Not_unifiable else ltomap (add (Substitution.bindings acc) (var v1) t1)\n",
    "                           | F (Function (f1,tl1)) -> if f=f1 then (if (List.length tl=List.length tl1) then ( List.fold_left(fun acc (x,y)->mgu1 x y acc) acc (List.combine tl tl1) ) else raise Not_unifiable) else raise Not_unifiable\n",
    "                            \n",
    "                           );;\n",
    "  \n",
    "  \n",
    "let mgu t1 t2  = mgu1 t1 t2 (Substitution.empty) ;;               \n",
    "\n",
    "\n",
    "let rec fpred x lis1 lis2=\n",
    "match lis1 with\n",
    "|[]->x\n",
    "|h::t-> (match lis2 with \n",
    "         |[]->x\n",
    "         |h1::t1->fpred (mgu1 h h1 x) t t1\n",
    "         )\n",
    "\n",
    "let mgu_predicate (Predicate (p1,l1)) (Predicate (p2,l2)) =\n",
    "if (p1=p2) then (if((List.length l1=List.length l2)) then fpred (Substitution.empty) l1 l2 else raise Not_unifiable) else raise Not_unifiable\n"
   ]
  },
  {
   "cell_type": "code",
   "execution_count": 15,
   "metadata": {
    "deletable": false,
    "editable": false,
    "nbgrader": {
     "cell_type": "code",
     "checksum": "af62b4c158d9035e3ca710453b533d95",
     "grade": true,
     "grade_id": "cell-ac73e25efdb21c2f",
     "locked": true,
     "points": 15,
     "schema_version": 3,
     "solution": false,
     "task": false
    }
   },
   "outputs": [
    {
     "data": {
      "text/plain": [
       "- : unit = ()\n"
      ]
     },
     "execution_count": 15,
     "metadata": {},
     "output_type": "execute_result"
    }
   ],
   "source": [
    "(* 15 points *)\n",
    "assert (string_of_substitution (mgu (var_t \"X\") (var_t \"Y\")) = \"{; X -> Y}\" ||\n",
    "        string_of_substitution (mgu (var_t \"X\") (var_t \"Y\")) = \"{; Y -> X}\");\n",
    "assert (string_of_substitution (mgu (var_t \"Y\") (var_t \"X\")) = \"{; X -> Y}\" ||\n",
    "        string_of_substitution (mgu (var_t \"Y\") (var_t \"X\")) = \"{; Y -> X}\");\n",
    "assert (mgu (var_t \"Y\") (var_t \"Y\") = Substitution.empty);\n",
    "assert (mgu (const_t \"0\") (const_t \"0\") = Substitution.empty);\n",
    "assert (mgu (const_t \"0\") (var_t \"Y\") = Substitution.singleton (var \"Y\") (const_t \"0\"));\n",
    "assert (\n",
    "  match mgu (const_t \"0\") (const_t \"1\") with\n",
    "  | _ -> false \n",
    "  | exception Not_unifiable -> true);\n",
    "assert (\n",
    "  match mgu (func_t \"f\" [const_t \"0\"]) (func_t \"g\" [const_t \"1\"]) with\n",
    "  | _ -> false \n",
    "  | exception Not_unifiable -> true);\n",
    "assert (mgu (func_t \"f\" [var_t \"X\"]) (func_t \"f\" [var_t \"Y\"]) = Substitution.singleton (var \"X\") (var_t \"Y\") ||\n",
    "        mgu (func_t \"f\" [var_t \"X\"]) (func_t \"f\" [var_t \"Y\"]) = Substitution.singleton (var \"Y\") (var_t \"X\"))"
   ]
  },
  {
   "cell_type": "code",
   "execution_count": 16,
   "metadata": {
    "deletable": false,
    "editable": false,
    "nbgrader": {
     "cell_type": "code",
     "checksum": "ebdee3943f1441ae834da78754d9776d",
     "grade": true,
     "grade_id": "cell-31521e057323948c",
     "locked": true,
     "points": 15,
     "schema_version": 3,
     "solution": false,
     "task": false
    }
   },
   "outputs": [
    {
     "data": {
      "text/plain": [
       "- : unit = ()\n"
      ]
     },
     "execution_count": 16,
     "metadata": {},
     "output_type": "execute_result"
    }
   ],
   "source": [
    "(* 15 points *)\n",
    "let t1 = F (Function(\"f\", [V (Variable \"X\"); V (Variable \"Y\"); V (Variable \"Y\")])) in \n",
    "let t2 = F (Function(\"f\", [V (Variable \"Y\"); V (Variable \"Z\"); V (Variable \"a\")])) in\n",
    "let u = mgu t1 t2 in\n",
    "assert (Substitution.cardinal u = 3);\n",
    "assert (string_of_substitution u = \"{; X -> a; Y -> a; Z -> a}\");\n"
   ]
  },
  {
   "cell_type": "markdown",
   "metadata": {
    "deletable": false,
    "editable": false,
    "nbgrader": {
     "cell_type": "markdown",
     "checksum": "7ba77700015cb23c207fdd3b81486e87",
     "grade": false,
     "grade_id": "cell-8e65f0eac3712b7d",
     "locked": true,
     "schema_version": 3,
     "solution": false,
     "task": false
    }
   },
   "source": [
    "## Problem 5\n",
    "\n",
    "Implement the function:\n",
    "\n",
    "```ocaml\n",
    "query : ?limit:int -> clause list -> predicate list -> predicate list list \n",
    "```\n",
    "\n",
    "where \n",
    "\n",
    "* the first optional argument is the `limit` i.e, maximum number of results to be returned. By default, the limit is set to 10 (see code below).\n",
    "* the second argument is the `program` which is a list of clauses.\n",
    "* the third argument is the `goal` which is a list of predicates.\n",
    "\n",
    "The function returns a list of predicate lists (`results`). Each of these results is a instance of the original goal and is a logical consequence of the program. If the given goal is not a logical consequence of the program, then the result is an empty list. See tests cases for expected results.\n",
    "\n",
    "For the rule and goal order, choose what Prolog does; choose the left-most subgoal for goal order and first rule in the order in which the rules appear in the program for the rule order. \n",
    "\n",
    "Hint: Implement a purely functional recursive solution. The backtracking and choice points naturally fall out of the implementation. The reference solution is 17 lines long. "
   ]
  },
  {
   "cell_type": "code",
   "execution_count": 17,
   "metadata": {
    "deletable": false,
    "nbgrader": {
     "cell_type": "code",
     "checksum": "05c4c414cdfb4c85ab363693c62a585b",
     "grade": false,
     "grade_id": "cell-5ee2ae1832ba66df",
     "locked": false,
     "schema_version": 3,
     "solution": true,
     "task": false
    }
   },
   "outputs": [
    {
     "data": {
      "text/plain": [
       "val sub : term Substitution.t -> predicate list -> predicate list = <fun>\n"
      ]
     },
     "execution_count": 17,
     "metadata": {},
     "output_type": "execute_result"
    },
    {
     "data": {
      "text/plain": [
       "val query :\n",
       "  ?limit:int -> clause list -> predicate list -> predicate list list = <fun>\n"
      ]
     },
     "execution_count": 17,
     "metadata": {},
     "output_type": "execute_result"
    }
   ],
   "source": [
    "let sub s pl = List.fold_left(fun acc x-> acc@[substitute_in_predicate s x]) [] pl\n",
    "\n",
    "\n",
    "let query ?(limit=10) program goal = \n",
    "let rec help (goa) (pro) (res) (ans) = if(List.length ans < limit) then\n",
    "List.fold_left(fun acc obj -> let fx = freshen obj in match res with\n",
    "|[]->acc\n",
    "|_-> begin match fx with\n",
    "        | Fact f -> begin match (mgu_predicate (List.hd res) f) with\n",
    "                      | exception Not_unifiable -> acc\n",
    "                      |_ -> if(List.length (List.tl res) = 0) then acc@[ sub (mgu_predicate (List.hd res) f) goa]\n",
    "                            else help  (sub (mgu_predicate (List.hd res) f) goa) pro (sub  (mgu_predicate (List.hd res) f)(List.tl res)) acc\n",
    "                     end;\n",
    "        | Rule(h,b) -> let n = b@(List.tl res) in begin match (mgu_predicate (List.hd res) h ) with\n",
    "                                                    |_-> if(List.length n = 0) then acc@[sub (mgu_predicate (List.hd res) h ) goa ]\n",
    "                                                        else help (sub (mgu_predicate (List.hd res) h ) goa ) (pro) (sub (mgu_predicate (List.hd res) h ) n) acc\n",
    "                                                    | exception Not_unifiable -> acc\n",
    "                                                   end;\n",
    "       end;                                            \n",
    ") (ans) (pro)\n",
    "\n",
    "else ans \n",
    "in help (goal) (program) (goal) ([]) "
   ]
  },
  {
   "cell_type": "code",
   "execution_count": 18,
   "metadata": {
    "deletable": false,
    "editable": false,
    "nbgrader": {
     "cell_type": "code",
     "checksum": "a5cefcbded08dbde790c112eadd0edac",
     "grade": true,
     "grade_id": "cell-28f5ebd13eec8f45",
     "locked": true,
     "points": 10,
     "schema_version": 3,
     "solution": false,
     "task": false
    }
   },
   "outputs": [
    {
     "data": {
      "text/plain": [
       "- : unit = ()\n"
      ]
     },
     "execution_count": 18,
     "metadata": {},
     "output_type": "execute_result"
    }
   ],
   "source": [
    "(* 10 points *)\n",
    "let p = [fact @@ pred \"f\" [const_t \"a\"; const_t \"b\"]] in\n",
    "let g = [pred \"f\" [const_t \"a\"; const_t \"b\"]] in\n",
    "let g' = match query p g with [v] -> v | _ -> failwith \"error\" in\n",
    "assert (g' = g)"
   ]
  },
  {
   "cell_type": "code",
   "execution_count": 19,
   "metadata": {
    "deletable": false,
    "editable": false,
    "nbgrader": {
     "cell_type": "code",
     "checksum": "763b1680e3594e19770a30308795a777",
     "grade": true,
     "grade_id": "cell-a161a762bcff7b43",
     "locked": true,
     "points": 10,
     "schema_version": 3,
     "solution": false,
     "task": false
    }
   },
   "outputs": [
    {
     "data": {
      "text/plain": [
       "- : unit = ()\n"
      ]
     },
     "execution_count": 19,
     "metadata": {},
     "output_type": "execute_result"
    }
   ],
   "source": [
    "(* 10 points *)\n",
    "let p = [fact @@ pred \"f\" [const_t \"a\"; const_t \"b\"]] in\n",
    "let g = [pred \"f\" [const_t \"a\"; const_t \"c\"]] in\n",
    "assert (query p g = [])"
   ]
  },
  {
   "cell_type": "code",
   "execution_count": 20,
   "metadata": {
    "deletable": false,
    "editable": false,
    "nbgrader": {
     "cell_type": "code",
     "checksum": "0a9482175454514ccbef6b8da44c501c",
     "grade": true,
     "grade_id": "cell-e91146830b55b51f",
     "locked": true,
     "points": 10,
     "schema_version": 3,
     "solution": false,
     "task": false
    }
   },
   "outputs": [
    {
     "data": {
      "text/plain": [
       "- : unit = ()\n"
      ]
     },
     "execution_count": 20,
     "metadata": {},
     "output_type": "execute_result"
    }
   ],
   "source": [
    "(* 10 points *)\n",
    "let p = [fact @@ pred \"f\" [const_t \"a\"; const_t \"b\"]] in\n",
    "let g = [pred \"f\" [var_t \"X\"; const_t \"b\"]] in\n",
    "let g' = match query p g with [v] -> v | _ -> failwith \"error\" in\n",
    "assert (g' = [pred \"f\" [const_t \"a\"; const_t \"b\"]]);\n",
    "\n",
    "let g = [pred \"f\" [var_t \"X\"; var_t \"Y\"]] in\n",
    "let g' = match query p g with [v] -> v | _ -> failwith \"error\" in\n",
    "assert (g' = [pred \"f\" [const_t \"a\"; const_t \"b\"]])"
   ]
  },
  {
   "cell_type": "code",
   "execution_count": 21,
   "metadata": {
    "deletable": false,
    "editable": false,
    "nbgrader": {
     "cell_type": "code",
     "checksum": "1b1db9bb6f78dd75ff669ae220816cad",
     "grade": true,
     "grade_id": "cell-47bf9c3272ca0e6a",
     "locked": true,
     "points": 10,
     "schema_version": 3,
     "solution": false,
     "task": false
    }
   },
   "outputs": [
    {
     "data": {
      "text/plain": [
       "- : unit = ()\n"
      ]
     },
     "execution_count": 21,
     "metadata": {},
     "output_type": "execute_result"
    }
   ],
   "source": [
    "(* 10 points *)\n",
    "let ancestor x y = pred \"ancestor\" [x;y] in\n",
    "let father x y = pred \"father\" [x;y] in\n",
    "let father_consts x y =  father (C (Constant x)) (C (Constant y)) in\n",
    "\n",
    "let f1 = Fact (father_consts \"rickard\" \"ned\") in\n",
    "let f2 = Fact (father_consts \"ned\" \"robb\") in\n",
    "let r1 = Rule (ancestor (var_t \"X\") (var_t \"Y\"), [father (var_t \"X\") (var_t \"Y\")]) in\n",
    "let r2 = Rule (ancestor (var_t \"X\") (var_t \"Y\"), [father (var_t \"X\") (var_t \"Z\"); ancestor (var_t \"Z\") (var_t \"Y\")]) in\n",
    "\n",
    "let p = [f1;f2;r1;r2] in\n",
    "let g = [ancestor (const_t \"rickard\") (const_t \"ned\")] in\n",
    "let g' = match query p g with [v] -> v | _ -> failwith \"error\" in\n",
    "assert (g' = g)"
   ]
  },
  {
   "cell_type": "code",
   "execution_count": 22,
   "metadata": {
    "deletable": false,
    "editable": false,
    "nbgrader": {
     "cell_type": "code",
     "checksum": "c46959623251b3ca4545bc6eda7f1ea7",
     "grade": true,
     "grade_id": "cell-0877bd2347d397a7",
     "locked": true,
     "points": 20,
     "schema_version": 3,
     "solution": false,
     "task": false
    }
   },
   "outputs": [
    {
     "data": {
      "text/plain": [
       "- : unit = ()\n"
      ]
     },
     "execution_count": 22,
     "metadata": {},
     "output_type": "execute_result"
    }
   ],
   "source": [
    "(* 20 points *)\n",
    "(* Tests backtracking *)\n",
    "let ancestor x y = pred \"ancestor\" [x;y] in\n",
    "let father x y = pred \"father\" [x;y] in\n",
    "let father_consts x y =  father (C (Constant x)) (C (Constant y)) in\n",
    "\n",
    "let f1 = Fact (father_consts \"rickard\" \"ned\") in\n",
    "let f2 = Fact (father_consts \"ned\" \"robb\") in\n",
    "let r1 = Rule (ancestor (var_t \"X\") (var_t \"Y\"), [father (var_t \"X\") (var_t \"Y\")]) in\n",
    "let r2 = Rule (ancestor (var_t \"X\") (var_t \"Y\"), [father (var_t \"X\") (var_t \"Z\"); ancestor (var_t \"Z\") (var_t \"Y\")]) in\n",
    "\n",
    "let p = [f1;f2;r1;r2] in\n",
    "\n",
    "let g = [ancestor (const_t \"rickard\") (const_t \"robb\")] in\n",
    "let g' = match query p g with [v] -> v | _ -> failwith \"error\" in\n",
    "assert (g' = g)"
   ]
  },
  {
   "cell_type": "code",
   "execution_count": 23,
   "metadata": {
    "deletable": false,
    "editable": false,
    "nbgrader": {
     "cell_type": "code",
     "checksum": "554ff4930692e9118988d6bd8bd44316",
     "grade": true,
     "grade_id": "cell-3c98e32698e06615",
     "locked": true,
     "points": 15,
     "schema_version": 3,
     "solution": false,
     "task": false
    }
   },
   "outputs": [
    {
     "data": {
      "text/plain": [
       "- : unit = ()\n"
      ]
     },
     "execution_count": 23,
     "metadata": {},
     "output_type": "execute_result"
    }
   ],
   "source": [
    "(* 15 points *)\n",
    "(* Tests choice points *)\n",
    "let ancestor x y = pred \"ancestor\" [x;y] in\n",
    "let father x y = pred \"father\" [x;y] in\n",
    "let father_consts x y =  father (C (Constant x)) (C (Constant y)) in\n",
    "\n",
    "let f1 = Fact (father_consts \"rickard\" \"ned\") in\n",
    "let f2 = Fact (father_consts \"ned\" \"robb\") in\n",
    "let r1 = Rule (ancestor (var_t \"X\") (var_t \"Y\"), [father (var_t \"X\") (var_t \"Y\")]) in\n",
    "let r2 = Rule (ancestor (var_t \"X\") (var_t \"Y\"), [father (var_t \"X\") (var_t \"Z\"); ancestor (var_t \"Z\") (var_t \"Y\")]) in\n",
    "\n",
    "let p = [f1;f2;r1;r2] in\n",
    "\n",
    "let g = [ancestor (var_t \"X\") (const_t \"robb\")] in\n",
    "let g1,g2 = match query p g with [v1;v2] -> v1,v2 | _ -> failwith \"error\" in\n",
    "assert (g1 = [ancestor (const_t \"ned\") (const_t \"robb\")]);\n",
    "assert (g2 = [ancestor (const_t \"rickard\") (const_t \"robb\")])"
   ]
  },
  {
   "cell_type": "code",
   "execution_count": 24,
   "metadata": {
    "deletable": false,
    "editable": false,
    "nbgrader": {
     "cell_type": "code",
     "checksum": "15eb6dcd244529d86408739aa1286a76",
     "grade": true,
     "grade_id": "cell-da8e133cb59f318d",
     "locked": true,
     "points": 15,
     "schema_version": 3,
     "solution": false,
     "task": false
    }
   },
   "outputs": [
    {
     "data": {
      "text/plain": [
       "- : unit = ()\n"
      ]
     },
     "execution_count": 24,
     "metadata": {},
     "output_type": "execute_result"
    }
   ],
   "source": [
    "(* 15 points *)\n",
    "(* Tests choice points *)\n",
    "let nil = const_t \"nil\" in\n",
    "let cons h t = func_t \"cons\" [h;t] in\n",
    "let append x y z = pred \"append\" [x;y;z] in\n",
    "let c1 = fact @@ append nil (var_t \"Q\") (var_t \"Q\") in\n",
    "let c2 = rule (append (cons (var_t \"H\") (var_t \"P\")) (var_t \"Q\") (cons (var_t \"H\") (var_t \"R\")))\n",
    "              [append (var_t \"P\") (var_t \"Q\") (var_t \"R\")] in\n",
    "let p = [c1;c2] in\n",
    "\n",
    "let g = [append (var_t \"X\") (var_t \"Y\") (cons (const_t \"1\") (cons (const_t \"2\") (cons (const_t \"3\") nil)))] in\n",
    "\n",
    "let g' = query p g in\n",
    "assert (List.length g' = 4)"
   ]
  },
  {
   "cell_type": "code",
   "execution_count": null,
   "metadata": {},
   "outputs": [],
   "source": []
  }
 ],
 "metadata": {
  "kernelspec": {
   "display_name": "OCaml 4.10",
   "language": "OCaml",
   "name": "ocaml-jupyter"
  },
  "language_info": {
   "codemirror_mode": "text/x-ocaml",
   "file_extension": ".ml",
   "mimetype": "text/x-ocaml",
   "name": "OCaml",
   "nbconverter_exporter": null,
   "pygments_lexer": "OCaml",
   "version": "4.10.0"
  }
 },
 "nbformat": 4,
 "nbformat_minor": 2
}
